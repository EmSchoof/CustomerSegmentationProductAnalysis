{
 "cells": [
  {
   "cell_type": "markdown",
   "metadata": {},
   "source": [
    "### Dataset description\n",
    "**Source**: Google Analytics hit (pageview) level data, by date and by article title.\n",
    "\n",
    "**Field descriptions**:\n",
    "- Date - year, month, day of hit.\n",
    "- Page Title - article title that was viewed by user\n",
    "- Age - age of user that visited the site\n",
    "- Gender - gender of user that visited the site\n",
    "- Source/Medium - the referral source of the hit or the website that the user was on before visiting whowhatwear.com\n",
    "- Pageviews - a hit of a url on our site that is being tracked by theAnalytics tracking code.\n",
    "- Unique Pageviews - represents the number of sessions during which that page was viewed one or more times."
   ]
  },
  {
   "cell_type": "code",
   "execution_count": 1,
   "metadata": {},
   "outputs": [
    {
     "data": {
      "text/html": [
       "<div>\n",
       "<style scoped>\n",
       "    .dataframe tbody tr th:only-of-type {\n",
       "        vertical-align: middle;\n",
       "    }\n",
       "\n",
       "    .dataframe tbody tr th {\n",
       "        vertical-align: top;\n",
       "    }\n",
       "\n",
       "    .dataframe thead th {\n",
       "        text-align: right;\n",
       "    }\n",
       "</style>\n",
       "<table border=\"1\" class=\"dataframe\">\n",
       "  <thead>\n",
       "    <tr style=\"text-align: right;\">\n",
       "      <th></th>\n",
       "      <th>Date</th>\n",
       "      <th>Page Title</th>\n",
       "      <th>Age</th>\n",
       "      <th>Gender</th>\n",
       "      <th>Source / Medium</th>\n",
       "      <th>Pageviews</th>\n",
       "      <th>Unique Pageviews</th>\n",
       "    </tr>\n",
       "  </thead>\n",
       "  <tbody>\n",
       "    <tr>\n",
       "      <th>0</th>\n",
       "      <td>2019-06-06</td>\n",
       "      <td>Chrissy Teigen Wore the Pleated-Jean Trend | W...</td>\n",
       "      <td>35-44</td>\n",
       "      <td>female</td>\n",
       "      <td>m.facebook.com / referral</td>\n",
       "      <td>35541</td>\n",
       "      <td>31670</td>\n",
       "    </tr>\n",
       "    <tr>\n",
       "      <th>1</th>\n",
       "      <td>2019-06-06</td>\n",
       "      <td>Chrissy Teigen Wore the Pleated-Jean Trend | W...</td>\n",
       "      <td>25-34</td>\n",
       "      <td>female</td>\n",
       "      <td>m.facebook.com / referral</td>\n",
       "      <td>29730</td>\n",
       "      <td>26236</td>\n",
       "    </tr>\n",
       "    <tr>\n",
       "      <th>2</th>\n",
       "      <td>2019-06-08</td>\n",
       "      <td>Chrissy Teigen Wore the Pleated-Jean Trend | W...</td>\n",
       "      <td>35-44</td>\n",
       "      <td>female</td>\n",
       "      <td>m.facebook.com / referral</td>\n",
       "      <td>21249</td>\n",
       "      <td>18923</td>\n",
       "    </tr>\n",
       "    <tr>\n",
       "      <th>3</th>\n",
       "      <td>2019-06-06</td>\n",
       "      <td>Chrissy Teigen Wore the Pleated-Jean Trend | W...</td>\n",
       "      <td>45-54</td>\n",
       "      <td>female</td>\n",
       "      <td>m.facebook.com / referral</td>\n",
       "      <td>18858</td>\n",
       "      <td>16825</td>\n",
       "    </tr>\n",
       "    <tr>\n",
       "      <th>4</th>\n",
       "      <td>2019-06-08</td>\n",
       "      <td>Chrissy Teigen Wore the Pleated-Jean Trend | W...</td>\n",
       "      <td>25-34</td>\n",
       "      <td>female</td>\n",
       "      <td>m.facebook.com / referral</td>\n",
       "      <td>18157</td>\n",
       "      <td>15970</td>\n",
       "    </tr>\n",
       "  </tbody>\n",
       "</table>\n",
       "</div>"
      ],
      "text/plain": [
       "        Date                                         Page Title    Age  \\\n",
       "0 2019-06-06  Chrissy Teigen Wore the Pleated-Jean Trend | W...  35-44   \n",
       "1 2019-06-06  Chrissy Teigen Wore the Pleated-Jean Trend | W...  25-34   \n",
       "2 2019-06-08  Chrissy Teigen Wore the Pleated-Jean Trend | W...  35-44   \n",
       "3 2019-06-06  Chrissy Teigen Wore the Pleated-Jean Trend | W...  45-54   \n",
       "4 2019-06-08  Chrissy Teigen Wore the Pleated-Jean Trend | W...  25-34   \n",
       "\n",
       "   Gender            Source / Medium  Pageviews  Unique Pageviews  \n",
       "0  female  m.facebook.com / referral      35541             31670  \n",
       "1  female  m.facebook.com / referral      29730             26236  \n",
       "2  female  m.facebook.com / referral      21249             18923  \n",
       "3  female  m.facebook.com / referral      18858             16825  \n",
       "4  female  m.facebook.com / referral      18157             15970  "
      ]
     },
     "execution_count": 1,
     "metadata": {},
     "output_type": "execute_result"
    }
   ],
   "source": [
    "# Import necessary modules\n",
    "import pandas as pd\n",
    "import numpy as np\n",
    "\n",
    "# Import data\n",
    "%store -r customer_df\n",
    "customer_df.head()"
   ]
  },
  {
   "cell_type": "markdown",
   "metadata": {},
   "source": [
    "## Question 1: Who is our audience? What demographic segment represents our core audience?\n",
    "\n",
    "To answer this question, we can lean on the two audience descriptor columns provided from this dataset: *Age\tand Gender*. We can create a sub-dataframe that groups these groups by gender, then by age, and shows the number of counts per group in order to assess which demographic is most dominant."
   ]
  },
  {
   "cell_type": "markdown",
   "metadata": {},
   "source": [
    "#### Step 1: Is there a difference between the number of female and male audience members of WWW?"
   ]
  },
  {
   "cell_type": "code",
   "execution_count": 2,
   "metadata": {},
   "outputs": [
    {
     "data": {
      "text/html": [
       "<div>\n",
       "<style scoped>\n",
       "    .dataframe tbody tr th:only-of-type {\n",
       "        vertical-align: middle;\n",
       "    }\n",
       "\n",
       "    .dataframe tbody tr th {\n",
       "        vertical-align: top;\n",
       "    }\n",
       "\n",
       "    .dataframe thead th {\n",
       "        text-align: right;\n",
       "    }\n",
       "</style>\n",
       "<table border=\"1\" class=\"dataframe\">\n",
       "  <thead>\n",
       "    <tr style=\"text-align: right;\">\n",
       "      <th></th>\n",
       "      <th>Age</th>\n",
       "      <th>Gender</th>\n",
       "    </tr>\n",
       "  </thead>\n",
       "  <tbody>\n",
       "    <tr>\n",
       "      <th>0</th>\n",
       "      <td>35-44</td>\n",
       "      <td>female</td>\n",
       "    </tr>\n",
       "  </tbody>\n",
       "</table>\n",
       "</div>"
      ],
      "text/plain": [
       "     Age  Gender\n",
       "0  35-44  female"
      ]
     },
     "execution_count": 2,
     "metadata": {},
     "output_type": "execute_result"
    }
   ],
   "source": [
    "# Create dataframe audience\n",
    "audience = customer_df[['Age', 'Gender']]\n",
    "audience.head(1)"
   ]
  },
  {
   "cell_type": "code",
   "execution_count": 3,
   "metadata": {},
   "outputs": [
    {
     "name": "stderr",
     "output_type": "stream",
     "text": [
      "/anaconda3/lib/python3.7/site-packages/ipykernel_launcher.py:2: SettingWithCopyWarning: \n",
      "A value is trying to be set on a copy of a slice from a DataFrame.\n",
      "Try using .loc[row_indexer,col_indexer] = value instead\n",
      "\n",
      "See the caveats in the documentation: http://pandas.pydata.org/pandas-docs/stable/indexing.html#indexing-view-versus-copy\n",
      "  \n"
     ]
    },
    {
     "data": {
      "text/html": [
       "<div>\n",
       "<style scoped>\n",
       "    .dataframe tbody tr th:only-of-type {\n",
       "        vertical-align: middle;\n",
       "    }\n",
       "\n",
       "    .dataframe tbody tr th {\n",
       "        vertical-align: top;\n",
       "    }\n",
       "\n",
       "    .dataframe thead th {\n",
       "        text-align: right;\n",
       "    }\n",
       "</style>\n",
       "<table border=\"1\" class=\"dataframe\">\n",
       "  <thead>\n",
       "    <tr style=\"text-align: right;\">\n",
       "      <th></th>\n",
       "      <th>Age</th>\n",
       "      <th>Gender</th>\n",
       "      <th>Count</th>\n",
       "    </tr>\n",
       "  </thead>\n",
       "  <tbody>\n",
       "    <tr>\n",
       "      <th>0</th>\n",
       "      <td>35-44</td>\n",
       "      <td>female</td>\n",
       "      <td>1</td>\n",
       "    </tr>\n",
       "  </tbody>\n",
       "</table>\n",
       "</div>"
      ],
      "text/plain": [
       "     Age  Gender  Count\n",
       "0  35-44  female      1"
      ]
     },
     "execution_count": 3,
     "metadata": {},
     "output_type": "execute_result"
    }
   ],
   "source": [
    "# Add a counts column\n",
    "audience['Count'] = 1\n",
    "audience.head(1)"
   ]
  },
  {
   "cell_type": "code",
   "execution_count": 4,
   "metadata": {},
   "outputs": [
    {
     "name": "stdout",
     "output_type": "stream",
     "text": [
      "       Age Gender  Count\n",
      "124    65+   male      1\n",
      "170  45-54   male      1\n",
      "     Age  Gender  Count\n",
      "0  35-44  female      1\n",
      "1  25-34  female      1\n"
     ]
    }
   ],
   "source": [
    "# Separate males and females\n",
    "\n",
    "# Male \n",
    "male_audience = audience.loc[audience['Gender'] == 'male']\n",
    "length_male = len(male_audience)\n",
    "print(male_audience.head(2))\n",
    "\n",
    "# Female\n",
    "female_audience = audience.loc[audience['Gender'] == 'female']\n",
    "length_female = len(female_audience)\n",
    "print(female_audience.head(2))"
   ]
  },
  {
   "cell_type": "markdown",
   "metadata": {},
   "source": [
    "*Visualize*"
   ]
  },
  {
   "cell_type": "code",
   "execution_count": 5,
   "metadata": {},
   "outputs": [],
   "source": [
    "# Import necessary modules\n",
    "%matplotlib inline\n",
    "import matplotlib.pyplot as plt\n",
    "from pylab import rcParams"
   ]
  },
  {
   "cell_type": "code",
   "execution_count": 6,
   "metadata": {},
   "outputs": [
    {
     "name": "stdout",
     "output_type": "stream",
     "text": [
      "30.0\n"
     ]
    }
   ],
   "source": [
    "# Create a general function for percent\n",
    "def calculate_percentage(val, total):\n",
    "    return round((val / total)*100, 3)\n",
    "\n",
    "# Test output\n",
    "print(calculate_percentage(30, 100))"
   ]
  },
  {
   "cell_type": "code",
   "execution_count": 7,
   "metadata": {},
   "outputs": [
    {
     "data": {
      "image/png": "[encoded data removed]",
      "text/plain": [
       "<Figure size 576x576 with 1 Axes>"
      ]
     },
     "metadata": {},
     "output_type": "display_data"
    },
    {
     "name": "stdout",
     "output_type": "stream",
     "text": [
      "The total number of males in the WWW audience dataset is:  3445\n",
      "The total number of females in the WWW audience dataset is:  29310\n"
     ]
    }
   ],
   "source": [
    "# Define total audience\n",
    "total_audience = len(audience)\n",
    "audience_list = [length_male, length_female]\n",
    "\n",
    "# Calculate percentage male and female\n",
    "percent_male = calculate_percentage(length_male, total_audience)\n",
    "percent_female = calculate_percentage(length_female, total_audience)\n",
    "\n",
    "# Create pie chart for visualization\n",
    "labels = ['Male', 'Female']\n",
    "colors = ['lightblue','lightpink'] \n",
    "rcParams['figure.figsize'] = 8,8\n",
    "explode = (0, 0.1) # only \"explode\" 'Female'\n",
    "\n",
    "# Plot\n",
    "plt.pie(audience_list, explode=explode, colors=colors, labels=labels,\n",
    "        autopct='%1.1f%%', shadow=True, startangle=270,)\n",
    "plt.title('Percentage of WWW Audience that are Male and Female')\n",
    "plt.savefig('wwwaudience.png', dpi=300)\n",
    "plt.show()\n",
    "\n",
    "print('The total number of males in the WWW audience dataset is: ', len(male_audience))\n",
    "print('The total number of females in the WWW audience dataset is: ', len(female_audience))"
   ]
  },
  {
   "cell_type": "markdown",
   "metadata": {},
   "source": [
    "*Observations*: Clearly, at just under 90% of the total audience population of WWW, females are the prodominant viewers. Therefore, it is safe to assume that at least one age group within the female audience population represents the core of WWW's audience."
   ]
  },
  {
   "cell_type": "code",
   "execution_count": 8,
   "metadata": {},
   "outputs": [
    {
     "data": {
      "text/html": [
       "<div>\n",
       "<style scoped>\n",
       "    .dataframe tbody tr th:only-of-type {\n",
       "        vertical-align: middle;\n",
       "    }\n",
       "\n",
       "    .dataframe tbody tr th {\n",
       "        vertical-align: top;\n",
       "    }\n",
       "\n",
       "    .dataframe thead th {\n",
       "        text-align: right;\n",
       "    }\n",
       "</style>\n",
       "<table border=\"1\" class=\"dataframe\">\n",
       "  <thead>\n",
       "    <tr style=\"text-align: right;\">\n",
       "      <th></th>\n",
       "      <th>Age</th>\n",
       "      <th>Count</th>\n",
       "    </tr>\n",
       "  </thead>\n",
       "  <tbody>\n",
       "    <tr>\n",
       "      <th>0</th>\n",
       "      <td>35-44</td>\n",
       "      <td>1</td>\n",
       "    </tr>\n",
       "  </tbody>\n",
       "</table>\n",
       "</div>"
      ],
      "text/plain": [
       "     Age  Count\n",
       "0  35-44      1"
      ]
     },
     "execution_count": 8,
     "metadata": {},
     "output_type": "execute_result"
    }
   ],
   "source": [
    "# Drop the gender column from the female dataset\n",
    "female_audience_counts = female_audience.drop(columns='Gender')\n",
    "female_audience_counts.head(1)"
   ]
  },
  {
   "cell_type": "code",
   "execution_count": 9,
   "metadata": {},
   "outputs": [
    {
     "data": {
      "text/html": [
       "<div>\n",
       "<style scoped>\n",
       "    .dataframe tbody tr th:only-of-type {\n",
       "        vertical-align: middle;\n",
       "    }\n",
       "\n",
       "    .dataframe tbody tr th {\n",
       "        vertical-align: top;\n",
       "    }\n",
       "\n",
       "    .dataframe thead th {\n",
       "        text-align: right;\n",
       "    }\n",
       "</style>\n",
       "<table border=\"1\" class=\"dataframe\">\n",
       "  <thead>\n",
       "    <tr style=\"text-align: right;\">\n",
       "      <th></th>\n",
       "      <th>Age</th>\n",
       "      <th>Count</th>\n",
       "    </tr>\n",
       "  </thead>\n",
       "  <tbody>\n",
       "    <tr>\n",
       "      <th>0</th>\n",
       "      <td>25-34</td>\n",
       "      <td>9183</td>\n",
       "    </tr>\n",
       "    <tr>\n",
       "      <th>1</th>\n",
       "      <td>35-44</td>\n",
       "      <td>6146</td>\n",
       "    </tr>\n",
       "    <tr>\n",
       "      <th>2</th>\n",
       "      <td>45-54</td>\n",
       "      <td>5222</td>\n",
       "    </tr>\n",
       "    <tr>\n",
       "      <th>3</th>\n",
       "      <td>55-64</td>\n",
       "      <td>4710</td>\n",
       "    </tr>\n",
       "    <tr>\n",
       "      <th>4</th>\n",
       "      <td>65+</td>\n",
       "      <td>2420</td>\n",
       "    </tr>\n",
       "    <tr>\n",
       "      <th>5</th>\n",
       "      <td>18-24</td>\n",
       "      <td>1629</td>\n",
       "    </tr>\n",
       "  </tbody>\n",
       "</table>\n",
       "</div>"
      ],
      "text/plain": [
       "     Age  Count\n",
       "0  25-34   9183\n",
       "1  35-44   6146\n",
       "2  45-54   5222\n",
       "3  55-64   4710\n",
       "4    65+   2420\n",
       "5  18-24   1629"
      ]
     },
     "execution_count": 9,
     "metadata": {},
     "output_type": "execute_result"
    }
   ],
   "source": [
    "# Group the dataset by Age and sort by Count\n",
    "female_audience_counts = female_audience_counts.groupby('Age').sum().sort_values(by='Count',ascending=False).reset_index()\n",
    "female_audience_counts"
   ]
  },
  {
   "cell_type": "markdown",
   "metadata": {},
   "source": [
    "*Observations*: It appears that the main demographic of the WWW audience is women within the ages of 25-34, followed by women between 35-44 and 45-54. "
   ]
  },
  {
   "cell_type": "markdown",
   "metadata": {},
   "source": [
    "*Visualize*"
   ]
  },
  {
   "cell_type": "code",
   "execution_count": 10,
   "metadata": {},
   "outputs": [],
   "source": [
    "# Import necessary modules\n",
    "import seaborn as sns"
   ]
  },
  {
   "cell_type": "code",
   "execution_count": 11,
   "metadata": {},
   "outputs": [
    {
     "data": {
      "image/png": "[encoded data removed]",
      "text/plain": [
       "<Figure size 576x576 with 1 Axes>"
      ]
     },
     "metadata": {
      "needs_background": "light"
     },
     "output_type": "display_data"
    }
   ],
   "source": [
    "# Plot counts and show percentages\n",
    "ax = sns.barplot(x='Age', y='Count', data=female_audience_counts)\n",
    "\n",
    "# Percentages added from source code:\n",
    "# https://stackoverflow.com/questions/31749448/how-to-add-percentages-on-top-of-bars-in-seaborn/31754317\n",
    "for p in ax.patches:\n",
    "    height = p.get_height()\n",
    "    ax.text(p.get_x() + p.get_width()/2.,\n",
    "            height + 3,\n",
    "            '{:1.2f}'.format( (height/sum(female_audience_counts.Count)) * 100),\n",
    "            ha=\"center\")  \n",
    "ax.set(title='Percent of Female WWW Audience by Age Group', ylabel='Percent')\n",
    "plt.savefig('wwwcoreaudience.png', dpi=300)\n",
    "plt.show()"
   ]
  },
  {
   "cell_type": "markdown",
   "metadata": {},
   "source": [
    "### Conclusion to Question 1: \n",
    "At **89.5%** of the total audience sample size within the dataset, **women make up vast majority of WWW followers**. Of that, three demographics make up the 'core' or over 50% of the WWW audience population:\n",
    "1. Women ages **25-34** make up the core demographic of (**~28% of the total**)\n",
    "2. Women ages **35-44** (with **~19% of the total**)\n",
    "3. Women ages **45-54** (with **~16% of the total**)\n",
    "Further analyses can be performed to quantify which group provides WWW with the most economic gain, in terms of immediate and lifetime-customer values. "
   ]
  }
 ],
 "metadata": {
  "kernelspec": {
   "display_name": "Python 3",
   "language": "python",
   "name": "python3"
  },
  "language_info": {
   "codemirror_mode": {
    "name": "ipython",
    "version": 3
   },
   "file_extension": ".py",
   "mimetype": "text/x-python",
   "name": "python",
   "nbconvert_exporter": "python",
   "pygments_lexer": "ipython3",
   "version": "3.7.3"
  }
 },
 "nbformat": 4,
 "nbformat_minor": 2
}
