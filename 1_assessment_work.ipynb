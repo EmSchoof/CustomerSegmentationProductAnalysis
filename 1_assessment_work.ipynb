{
 "cells": [
  {
   "cell_type": "markdown",
   "metadata": {},
   "source": [
    "### Dataset description\n",
    "**Source**: Google Analytics hit (pageview) level data, by date and by article title.\n",
    "\n",
    "**Field descriptions**:\n",
    "- Date - year, month, day of hit.\n",
    "- Page Title - article title that was viewed by user\n",
    "- Age - age of user that visited the site\n",
    "- Gender - gender of user that visited the site\n",
    "- Source/Medium - the referral source of the hit or the website that the user was on before visiting whowhatwear.com\n",
    "- Pageviews - a hit of a url on our site that is being tracked by theAnalytics tracking code.\n",
    "- Unique Pageviews - represents the number of sessions during which that page was viewed one or more times."
   ]
  },
  {
   "cell_type": "markdown",
   "metadata": {},
   "source": [
    "### Step 1: Load and Clean Source-Data"
   ]
  },
  {
   "cell_type": "code",
   "execution_count": 1,
   "metadata": {},
   "outputs": [],
   "source": [
    "# Import the relevant modules\n",
    "import pandas as pd\n",
    "from pandas import DataFrame\n",
    "import numpy as np\n",
    "import json"
   ]
  },
  {
   "cell_type": "code",
   "execution_count": 2,
   "metadata": {},
   "outputs": [
    {
     "data": {
      "text/html": [
       "<div>\n",
       "<style scoped>\n",
       "    .dataframe tbody tr th:only-of-type {\n",
       "        vertical-align: middle;\n",
       "    }\n",
       "\n",
       "    .dataframe tbody tr th {\n",
       "        vertical-align: top;\n",
       "    }\n",
       "\n",
       "    .dataframe thead th {\n",
       "        text-align: right;\n",
       "    }\n",
       "</style>\n",
       "<table border=\"1\" class=\"dataframe\">\n",
       "  <thead>\n",
       "    <tr style=\"text-align: right;\">\n",
       "      <th></th>\n",
       "      <th>Date</th>\n",
       "      <th>Page Title</th>\n",
       "      <th>Age</th>\n",
       "      <th>Gender</th>\n",
       "      <th>Source / Medium</th>\n",
       "      <th>Pageviews</th>\n",
       "      <th>Unique Pageviews</th>\n",
       "      <th>Unnamed: 7</th>\n",
       "      <th>Unnamed: 8</th>\n",
       "      <th>Unnamed: 9</th>\n",
       "      <th>Unnamed: 10</th>\n",
       "      <th>Unnamed: 11</th>\n",
       "      <th>Unnamed: 12</th>\n",
       "      <th>Unnamed: 13</th>\n",
       "      <th>Unnamed: 14</th>\n",
       "    </tr>\n",
       "  </thead>\n",
       "  <tbody>\n",
       "    <tr>\n",
       "      <th>0</th>\n",
       "      <td>20190606</td>\n",
       "      <td>Chrissy Teigen Wore the Pleated-Jean Trend | W...</td>\n",
       "      <td>35-44</td>\n",
       "      <td>female</td>\n",
       "      <td>m.facebook.com / referral</td>\n",
       "      <td>35541</td>\n",
       "      <td>31670</td>\n",
       "      <td>NaN</td>\n",
       "      <td>NaN</td>\n",
       "      <td>NaN</td>\n",
       "      <td>NaN</td>\n",
       "      <td>NaN</td>\n",
       "      <td>NaN</td>\n",
       "      <td>NaN</td>\n",
       "      <td>NaN</td>\n",
       "    </tr>\n",
       "    <tr>\n",
       "      <th>1</th>\n",
       "      <td>20190606</td>\n",
       "      <td>Chrissy Teigen Wore the Pleated-Jean Trend | W...</td>\n",
       "      <td>25-34</td>\n",
       "      <td>female</td>\n",
       "      <td>m.facebook.com / referral</td>\n",
       "      <td>29730</td>\n",
       "      <td>26236</td>\n",
       "      <td>NaN</td>\n",
       "      <td>NaN</td>\n",
       "      <td>NaN</td>\n",
       "      <td>NaN</td>\n",
       "      <td>NaN</td>\n",
       "      <td>NaN</td>\n",
       "      <td>NaN</td>\n",
       "      <td>NaN</td>\n",
       "    </tr>\n",
       "  </tbody>\n",
       "</table>\n",
       "</div>"
      ],
      "text/plain": [
       "       Date                                         Page Title    Age  Gender  \\\n",
       "0  20190606  Chrissy Teigen Wore the Pleated-Jean Trend | W...  35-44  female   \n",
       "1  20190606  Chrissy Teigen Wore the Pleated-Jean Trend | W...  25-34  female   \n",
       "\n",
       "             Source / Medium  Pageviews  Unique Pageviews  Unnamed: 7  \\\n",
       "0  m.facebook.com / referral      35541             31670         NaN   \n",
       "1  m.facebook.com / referral      29730             26236         NaN   \n",
       "\n",
       "   Unnamed: 8  Unnamed: 9  Unnamed: 10  Unnamed: 11  Unnamed: 12  Unnamed: 13  \\\n",
       "0         NaN         NaN          NaN          NaN          NaN          NaN   \n",
       "1         NaN         NaN          NaN          NaN          NaN          NaN   \n",
       "\n",
       "  Unnamed: 14  \n",
       "0         NaN  \n",
       "1         NaN  "
      ]
     },
     "execution_count": 2,
     "metadata": {},
     "output_type": "execute_result"
    }
   ],
   "source": [
    "# Import data\n",
    "customer_df = pd.DataFrame(pd.read_csv('intern_assessment_ds.csv', encoding='unicode_escape'))\n",
    "customer_df.head(2)"
   ]
  },
  {
   "cell_type": "markdown",
   "metadata": {},
   "source": [
    "**First Issue**: In the original version of the file, the error \"UnicodeDecodeError: 'utf8' codec can't decode byte 0xa5 in position 0: invalid start byte\" appeared. To resolve this issue, the encoding, 'unicode_escape', was specified to produce an output that is suitable as raw Unicode literal in Python source code. Additionally, the 'utf8' error can also be resolved by openning the original csv file was opened in Excel/Numbers, then re-exported out as a CSV with 'utf8' encoding specified. "
   ]
  },
  {
   "cell_type": "markdown",
   "metadata": {},
   "source": [
    "**Second Issue**: When imported, it becomes apparent that the are several uncessessary columns full of NaN objects and unnamed. Since these columns are also not referenced in the data description, it will be assumed that these columns can be dropped without interfering with further analysis. "
   ]
  },
  {
   "cell_type": "code",
   "execution_count": 3,
   "metadata": {},
   "outputs": [
    {
     "data": {
      "text/html": [
       "<div>\n",
       "<style scoped>\n",
       "    .dataframe tbody tr th:only-of-type {\n",
       "        vertical-align: middle;\n",
       "    }\n",
       "\n",
       "    .dataframe tbody tr th {\n",
       "        vertical-align: top;\n",
       "    }\n",
       "\n",
       "    .dataframe thead th {\n",
       "        text-align: right;\n",
       "    }\n",
       "</style>\n",
       "<table border=\"1\" class=\"dataframe\">\n",
       "  <thead>\n",
       "    <tr style=\"text-align: right;\">\n",
       "      <th></th>\n",
       "      <th>Date</th>\n",
       "      <th>Page Title</th>\n",
       "      <th>Age</th>\n",
       "      <th>Gender</th>\n",
       "      <th>Source / Medium</th>\n",
       "      <th>Pageviews</th>\n",
       "      <th>Unique Pageviews</th>\n",
       "    </tr>\n",
       "  </thead>\n",
       "  <tbody>\n",
       "    <tr>\n",
       "      <th>0</th>\n",
       "      <td>20190606</td>\n",
       "      <td>Chrissy Teigen Wore the Pleated-Jean Trend | W...</td>\n",
       "      <td>35-44</td>\n",
       "      <td>female</td>\n",
       "      <td>m.facebook.com / referral</td>\n",
       "      <td>35541</td>\n",
       "      <td>31670</td>\n",
       "    </tr>\n",
       "    <tr>\n",
       "      <th>1</th>\n",
       "      <td>20190606</td>\n",
       "      <td>Chrissy Teigen Wore the Pleated-Jean Trend | W...</td>\n",
       "      <td>25-34</td>\n",
       "      <td>female</td>\n",
       "      <td>m.facebook.com / referral</td>\n",
       "      <td>29730</td>\n",
       "      <td>26236</td>\n",
       "    </tr>\n",
       "  </tbody>\n",
       "</table>\n",
       "</div>"
      ],
      "text/plain": [
       "       Date                                         Page Title    Age  Gender  \\\n",
       "0  20190606  Chrissy Teigen Wore the Pleated-Jean Trend | W...  35-44  female   \n",
       "1  20190606  Chrissy Teigen Wore the Pleated-Jean Trend | W...  25-34  female   \n",
       "\n",
       "             Source / Medium  Pageviews  Unique Pageviews  \n",
       "0  m.facebook.com / referral      35541             31670  \n",
       "1  m.facebook.com / referral      29730             26236  "
      ]
     },
     "execution_count": 3,
     "metadata": {},
     "output_type": "execute_result"
    }
   ],
   "source": [
    "# Drop unnecessary columns\n",
    "customer_df = customer_df.drop(columns=['Unnamed: 7', 'Unnamed: 8', 'Unnamed: 9', 'Unnamed: 10',\n",
    "                                       'Unnamed: 11', 'Unnamed: 12', 'Unnamed: 13', 'Unnamed: 14'])\n",
    "customer_df.head(2)"
   ]
  },
  {
   "cell_type": "code",
   "execution_count": 4,
   "metadata": {},
   "outputs": [
    {
     "name": "stdout",
     "output_type": "stream",
     "text": [
      "<class 'pandas.core.frame.DataFrame'>\n",
      "RangeIndex: 32755 entries, 0 to 32754\n",
      "Data columns (total 7 columns):\n",
      "Date                32755 non-null int64\n",
      "Page Title          32755 non-null object\n",
      "Age                 32755 non-null object\n",
      "Gender              32755 non-null object\n",
      "Source / Medium     32755 non-null object\n",
      "Pageviews           32755 non-null int64\n",
      "Unique Pageviews    32755 non-null int64\n",
      "dtypes: int64(3), object(4)\n",
      "memory usage: 1.7+ MB\n"
     ]
    }
   ],
   "source": [
    "# Assess dataset\n",
    "customer_df.info()"
   ]
  },
  {
   "cell_type": "markdown",
   "metadata": {},
   "source": [
    "*Observations*: All columns appear to have the same length of non-null objects, but null-values will be dropped as a precaution."
   ]
  },
  {
   "cell_type": "code",
   "execution_count": 5,
   "metadata": {},
   "outputs": [],
   "source": [
    "# Drop null values\n",
    "customer_df = customer_df.dropna()"
   ]
  },
  {
   "cell_type": "code",
   "execution_count": 6,
   "metadata": {},
   "outputs": [
    {
     "name": "stdout",
     "output_type": "stream",
     "text": [
      "(32755, 7)\n"
     ]
    }
   ],
   "source": [
    "# Number of entries in dataset\n",
    "print(customer_df.shape)"
   ]
  },
  {
   "cell_type": "code",
   "execution_count": 7,
   "metadata": {},
   "outputs": [
    {
     "name": "stdout",
     "output_type": "stream",
     "text": [
      "22530    20190601\n",
      "Name: Date, dtype: int64\n"
     ]
    },
    {
     "data": {
      "text/plain": [
       "14392    20190630\n",
       "Name: Date, dtype: int64"
      ]
     },
     "execution_count": 7,
     "metadata": {},
     "output_type": "execute_result"
    }
   ],
   "source": [
    "# Define date timeframe\n",
    "print(customer_df.sort_values(by='Date', ascending=True)['Date'].head(1))\n",
    "customer_df.sort_values(by='Date', ascending=True)['Date'].tail(1)"
   ]
  },
  {
   "cell_type": "code",
   "execution_count": 8,
   "metadata": {},
   "outputs": [
    {
     "data": {
      "text/plain": [
       "array(['female', 'male'], dtype=object)"
      ]
     },
     "execution_count": 8,
     "metadata": {},
     "output_type": "execute_result"
    }
   ],
   "source": [
    "# Define genders in dataset\n",
    "np.unique(customer_df.Gender)"
   ]
  },
  {
   "cell_type": "markdown",
   "metadata": {},
   "source": [
    "*Observations*: This dataset is for June 1 to 30 in 2019, and the audience contains both male and female genders."
   ]
  },
  {
   "cell_type": "markdown",
   "metadata": {},
   "source": [
    "## Question 1: Who is our audience? What demographic segment represents our core audience?\n",
    "\n",
    "To answer this question, we can lean on the two audience descriptor columns provided from this dataset: *Age\tand Gender*. We can create a sub-dataframe that groups these groups by gender, then by age, and shows the number of counts per group in order to assess which demographic is most dominant."
   ]
  },
  {
   "cell_type": "markdown",
   "metadata": {},
   "source": [
    "#### Step 1: Is there a difference between the number of female and male audience members of WWW?"
   ]
  },
  {
   "cell_type": "code",
   "execution_count": 9,
   "metadata": {},
   "outputs": [
    {
     "data": {
      "text/html": [
       "<div>\n",
       "<style scoped>\n",
       "    .dataframe tbody tr th:only-of-type {\n",
       "        vertical-align: middle;\n",
       "    }\n",
       "\n",
       "    .dataframe tbody tr th {\n",
       "        vertical-align: top;\n",
       "    }\n",
       "\n",
       "    .dataframe thead th {\n",
       "        text-align: right;\n",
       "    }\n",
       "</style>\n",
       "<table border=\"1\" class=\"dataframe\">\n",
       "  <thead>\n",
       "    <tr style=\"text-align: right;\">\n",
       "      <th></th>\n",
       "      <th>Age</th>\n",
       "      <th>Gender</th>\n",
       "    </tr>\n",
       "  </thead>\n",
       "  <tbody>\n",
       "    <tr>\n",
       "      <th>0</th>\n",
       "      <td>35-44</td>\n",
       "      <td>female</td>\n",
       "    </tr>\n",
       "  </tbody>\n",
       "</table>\n",
       "</div>"
      ],
      "text/plain": [
       "     Age  Gender\n",
       "0  35-44  female"
      ]
     },
     "execution_count": 9,
     "metadata": {},
     "output_type": "execute_result"
    }
   ],
   "source": [
    "# Create dataframe audience\n",
    "audience = customer_df[['Age', 'Gender']]\n",
    "audience.head(1)"
   ]
  },
  {
   "cell_type": "code",
   "execution_count": 10,
   "metadata": {},
   "outputs": [
    {
     "name": "stderr",
     "output_type": "stream",
     "text": [
      "/anaconda3/lib/python3.7/site-packages/ipykernel_launcher.py:2: SettingWithCopyWarning: \n",
      "A value is trying to be set on a copy of a slice from a DataFrame.\n",
      "Try using .loc[row_indexer,col_indexer] = value instead\n",
      "\n",
      "See the caveats in the documentation: http://pandas.pydata.org/pandas-docs/stable/indexing.html#indexing-view-versus-copy\n",
      "  \n"
     ]
    },
    {
     "data": {
      "text/html": [
       "<div>\n",
       "<style scoped>\n",
       "    .dataframe tbody tr th:only-of-type {\n",
       "        vertical-align: middle;\n",
       "    }\n",
       "\n",
       "    .dataframe tbody tr th {\n",
       "        vertical-align: top;\n",
       "    }\n",
       "\n",
       "    .dataframe thead th {\n",
       "        text-align: right;\n",
       "    }\n",
       "</style>\n",
       "<table border=\"1\" class=\"dataframe\">\n",
       "  <thead>\n",
       "    <tr style=\"text-align: right;\">\n",
       "      <th></th>\n",
       "      <th>Age</th>\n",
       "      <th>Gender</th>\n",
       "      <th>Count</th>\n",
       "    </tr>\n",
       "  </thead>\n",
       "  <tbody>\n",
       "    <tr>\n",
       "      <th>0</th>\n",
       "      <td>35-44</td>\n",
       "      <td>female</td>\n",
       "      <td>1</td>\n",
       "    </tr>\n",
       "  </tbody>\n",
       "</table>\n",
       "</div>"
      ],
      "text/plain": [
       "     Age  Gender  Count\n",
       "0  35-44  female      1"
      ]
     },
     "execution_count": 10,
     "metadata": {},
     "output_type": "execute_result"
    }
   ],
   "source": [
    "# Add a counts column\n",
    "audience['Count'] = 1\n",
    "audience.head(1)"
   ]
  },
  {
   "cell_type": "code",
   "execution_count": 11,
   "metadata": {},
   "outputs": [
    {
     "name": "stdout",
     "output_type": "stream",
     "text": [
      "       Age Gender  Count\n",
      "124    65+   male      1\n",
      "170  45-54   male      1\n",
      "     Age  Gender  Count\n",
      "0  35-44  female      1\n",
      "1  25-34  female      1\n"
     ]
    }
   ],
   "source": [
    "# Separate males and females\n",
    "\n",
    "# Male \n",
    "male_audience = audience.loc[audience['Gender'] == 'male']\n",
    "length_male = len(male_audience)\n",
    "print(male_audience.head(2))\n",
    "\n",
    "# Female\n",
    "female_audience = audience.loc[audience['Gender'] == 'female']\n",
    "length_female = len(female_audience)\n",
    "print(female_audience.head(2))"
   ]
  },
  {
   "cell_type": "markdown",
   "metadata": {},
   "source": [
    "*Visualize*"
   ]
  },
  {
   "cell_type": "code",
   "execution_count": 12,
   "metadata": {},
   "outputs": [],
   "source": [
    "# Import necessary modules\n",
    "%matplotlib inline\n",
    "import matplotlib.pyplot as plt\n",
    "from pylab import rcParams"
   ]
  },
  {
   "cell_type": "code",
   "execution_count": 13,
   "metadata": {},
   "outputs": [
    {
     "name": "stdout",
     "output_type": "stream",
     "text": [
      "30.0\n"
     ]
    }
   ],
   "source": [
    "# Create a general function for percent\n",
    "def calculate_percentage(val, total):\n",
    "    return round((val / total)*100, 3)\n",
    "\n",
    "# Test output\n",
    "print(calculate_percentage(30, 100))"
   ]
  },
  {
   "cell_type": "code",
   "execution_count": 14,
   "metadata": {},
   "outputs": [
    {
     "data": {
      "image/png": "[encoded data removed]",
      "text/plain": [
       "<Figure size 576x576 with 1 Axes>"
      ]
     },
     "metadata": {},
     "output_type": "display_data"
    },
    {
     "name": "stdout",
     "output_type": "stream",
     "text": [
      "The total number of males in the WWW audience dataset is:  3445\n",
      "The total number of females in the WWW audience dataset is:  29310\n"
     ]
    }
   ],
   "source": [
    "# Define total audience\n",
    "total_audience = len(audience)\n",
    "audience_list = [length_male, length_female]\n",
    "\n",
    "# Calculate percentage male and female\n",
    "percent_male = calculate_percentage(length_male, total_audience)\n",
    "percent_female = calculate_percentage(length_female, total_audience)\n",
    "\n",
    "# Create pie chart for visualization\n",
    "labels = ['Male', 'Female']\n",
    "colors = ['lightblue','lightpink'] \n",
    "rcParams['figure.figsize'] = 8,8\n",
    "explode = (0, 0.1) # only \"explode\" 'Female'\n",
    "\n",
    "# Plot\n",
    "plt.pie(audience_list, explode=explode, colors=colors, labels=labels,\n",
    "        autopct='%1.1f%%', shadow=True, startangle=270,)\n",
    "plt.title('Percentage of WWW Audience that are Male and Female')\n",
    "plt.savefig('wwwaudience.png', dpi=300)\n",
    "plt.show()\n",
    "\n",
    "print('The total number of males in the WWW audience dataset is: ', len(male_audience))\n",
    "print('The total number of females in the WWW audience dataset is: ', len(female_audience))"
   ]
  },
  {
   "cell_type": "markdown",
   "metadata": {},
   "source": [
    "*Observations*: Clearly, at just under 90% of the total audience population of WWW, females are the prodominant viewers. Therefore, it is safe to assume that at least one age group within the female audience population represents the core of WWW's audience."
   ]
  },
  {
   "cell_type": "code",
   "execution_count": 15,
   "metadata": {},
   "outputs": [
    {
     "data": {
      "text/html": [
       "<div>\n",
       "<style scoped>\n",
       "    .dataframe tbody tr th:only-of-type {\n",
       "        vertical-align: middle;\n",
       "    }\n",
       "\n",
       "    .dataframe tbody tr th {\n",
       "        vertical-align: top;\n",
       "    }\n",
       "\n",
       "    .dataframe thead th {\n",
       "        text-align: right;\n",
       "    }\n",
       "</style>\n",
       "<table border=\"1\" class=\"dataframe\">\n",
       "  <thead>\n",
       "    <tr style=\"text-align: right;\">\n",
       "      <th></th>\n",
       "      <th>Age</th>\n",
       "      <th>Count</th>\n",
       "    </tr>\n",
       "  </thead>\n",
       "  <tbody>\n",
       "    <tr>\n",
       "      <th>0</th>\n",
       "      <td>35-44</td>\n",
       "      <td>1</td>\n",
       "    </tr>\n",
       "  </tbody>\n",
       "</table>\n",
       "</div>"
      ],
      "text/plain": [
       "     Age  Count\n",
       "0  35-44      1"
      ]
     },
     "execution_count": 15,
     "metadata": {},
     "output_type": "execute_result"
    }
   ],
   "source": [
    "# Drop the gender column from the female dataset\n",
    "female_audience_counts = female_audience.drop(columns='Gender')\n",
    "female_audience_counts.head(1)"
   ]
  },
  {
   "cell_type": "code",
   "execution_count": 16,
   "metadata": {},
   "outputs": [
    {
     "data": {
      "text/html": [
       "<div>\n",
       "<style scoped>\n",
       "    .dataframe tbody tr th:only-of-type {\n",
       "        vertical-align: middle;\n",
       "    }\n",
       "\n",
       "    .dataframe tbody tr th {\n",
       "        vertical-align: top;\n",
       "    }\n",
       "\n",
       "    .dataframe thead th {\n",
       "        text-align: right;\n",
       "    }\n",
       "</style>\n",
       "<table border=\"1\" class=\"dataframe\">\n",
       "  <thead>\n",
       "    <tr style=\"text-align: right;\">\n",
       "      <th></th>\n",
       "      <th>Age</th>\n",
       "      <th>Count</th>\n",
       "    </tr>\n",
       "  </thead>\n",
       "  <tbody>\n",
       "    <tr>\n",
       "      <th>0</th>\n",
       "      <td>25-34</td>\n",
       "      <td>9183</td>\n",
       "    </tr>\n",
       "    <tr>\n",
       "      <th>1</th>\n",
       "      <td>35-44</td>\n",
       "      <td>6146</td>\n",
       "    </tr>\n",
       "    <tr>\n",
       "      <th>2</th>\n",
       "      <td>45-54</td>\n",
       "      <td>5222</td>\n",
       "    </tr>\n",
       "    <tr>\n",
       "      <th>3</th>\n",
       "      <td>55-64</td>\n",
       "      <td>4710</td>\n",
       "    </tr>\n",
       "    <tr>\n",
       "      <th>4</th>\n",
       "      <td>65+</td>\n",
       "      <td>2420</td>\n",
       "    </tr>\n",
       "    <tr>\n",
       "      <th>5</th>\n",
       "      <td>18-24</td>\n",
       "      <td>1629</td>\n",
       "    </tr>\n",
       "  </tbody>\n",
       "</table>\n",
       "</div>"
      ],
      "text/plain": [
       "     Age  Count\n",
       "0  25-34   9183\n",
       "1  35-44   6146\n",
       "2  45-54   5222\n",
       "3  55-64   4710\n",
       "4    65+   2420\n",
       "5  18-24   1629"
      ]
     },
     "execution_count": 16,
     "metadata": {},
     "output_type": "execute_result"
    }
   ],
   "source": [
    "# Group the dataset by Age and sort by Count\n",
    "female_audience_counts = female_audience_counts.groupby('Age').sum().sort_values(by='Count',ascending=False).reset_index()\n",
    "female_audience_counts"
   ]
  },
  {
   "cell_type": "markdown",
   "metadata": {},
   "source": [
    "*Observations*: It appears that the main demographic of the WWW audience is women within the ages of 25-34, followed by women between 35-44 and 45-54. "
   ]
  },
  {
   "cell_type": "markdown",
   "metadata": {},
   "source": [
    "*Visualize*"
   ]
  },
  {
   "cell_type": "code",
   "execution_count": 17,
   "metadata": {},
   "outputs": [],
   "source": [
    "# Import necessary modules\n",
    "import seaborn as sns"
   ]
  },
  {
   "cell_type": "code",
   "execution_count": 18,
   "metadata": {},
   "outputs": [
    {
     "data": {
      "image/png": "[encoded data removed]",
      "text/plain": [
       "<Figure size 576x576 with 1 Axes>"
      ]
     },
     "metadata": {
      "needs_background": "light"
     },
     "output_type": "display_data"
    }
   ],
   "source": [
    "# Plot counts and show percentages\n",
    "ax = sns.barplot(x='Age', y='Count', data=female_audience_counts)\n",
    "\n",
    "# Percentages added from source code:\n",
    "# https://stackoverflow.com/questions/31749448/how-to-add-percentages-on-top-of-bars-in-seaborn/31754317\n",
    "for p in ax.patches:\n",
    "    height = p.get_height()\n",
    "    ax.text(p.get_x() + p.get_width()/2.,\n",
    "            height + 3,\n",
    "            '{:1.2f}'.format( (height/sum(female_audience_counts.Count)) * 100),\n",
    "            ha=\"center\")  \n",
    "ax.set(title='Percent of Female WWW Audience by Age Group', ylabel='Percent')\n",
    "plt.savefig('wwwcoreaudience.png', dpi=300)\n",
    "plt.show()"
   ]
  },
  {
   "cell_type": "markdown",
   "metadata": {},
   "source": [
    "### Conclusion to Question 1: \n",
    "At **89.5%** of the total audience sample size within the dataset, **women make up vast majority of WWW followers**. Of that, three demographics make up the 'core' or over 50% of the WWW audience population:\n",
    "1. Women ages **25-34** make up the core demographic of (**~28% of the total**)\n",
    "2. Women ages **35-44** (with **~19% of the total**)\n",
    "3. Women ages **45-54** (with **~16% of the total**)\n",
    "Further analyses can be performed to quantify which group provides WWW with the most economic gain, in terms of immediate and lifetime-customer values. "
   ]
  },
  {
   "cell_type": "markdown",
   "metadata": {},
   "source": [
    "## Question 2: What content resonates with her? What are the themes and frames that drive engagement?\n",
    "\n",
    "For the sake of this assessment, only the top audience demographic, **women ages 25-24**, will be analyzed in order to answer the questions above. Within the dataset, the two most applicable columns with content information are *Pageviews, Unique Pageviews, and Page Title*. It will also be assumed that an article with the most unique page views, meaning more sessions by readers, will be content that resonates the most with the core audience."
   ]
  },
  {
   "cell_type": "code",
   "execution_count": 38,
   "metadata": {},
   "outputs": [
    {
     "data": {
      "text/html": [
       "<div>\n",
       "<style scoped>\n",
       "    .dataframe tbody tr th:only-of-type {\n",
       "        vertical-align: middle;\n",
       "    }\n",
       "\n",
       "    .dataframe tbody tr th {\n",
       "        vertical-align: top;\n",
       "    }\n",
       "\n",
       "    .dataframe thead th {\n",
       "        text-align: right;\n",
       "    }\n",
       "</style>\n",
       "<table border=\"1\" class=\"dataframe\">\n",
       "  <thead>\n",
       "    <tr style=\"text-align: right;\">\n",
       "      <th></th>\n",
       "      <th>Date</th>\n",
       "      <th>Page Title</th>\n",
       "      <th>Age</th>\n",
       "      <th>Gender</th>\n",
       "      <th>Source / Medium</th>\n",
       "      <th>Pageviews</th>\n",
       "      <th>Unique Pageviews</th>\n",
       "    </tr>\n",
       "  </thead>\n",
       "  <tbody>\n",
       "    <tr>\n",
       "      <th>0</th>\n",
       "      <td>20190606</td>\n",
       "      <td>Chrissy Teigen Wore the Pleated-Jean Trend | W...</td>\n",
       "      <td>35-44</td>\n",
       "      <td>female</td>\n",
       "      <td>m.facebook.com / referral</td>\n",
       "      <td>35541</td>\n",
       "      <td>31670</td>\n",
       "    </tr>\n",
       "    <tr>\n",
       "      <th>1</th>\n",
       "      <td>20190606</td>\n",
       "      <td>Chrissy Teigen Wore the Pleated-Jean Trend | W...</td>\n",
       "      <td>25-34</td>\n",
       "      <td>female</td>\n",
       "      <td>m.facebook.com / referral</td>\n",
       "      <td>29730</td>\n",
       "      <td>26236</td>\n",
       "    </tr>\n",
       "  </tbody>\n",
       "</table>\n",
       "</div>"
      ],
      "text/plain": [
       "       Date                                         Page Title    Age  Gender  \\\n",
       "0  20190606  Chrissy Teigen Wore the Pleated-Jean Trend | W...  35-44  female   \n",
       "1  20190606  Chrissy Teigen Wore the Pleated-Jean Trend | W...  25-34  female   \n",
       "\n",
       "             Source / Medium  Pageviews  Unique Pageviews  \n",
       "0  m.facebook.com / referral      35541             31670  \n",
       "1  m.facebook.com / referral      29730             26236  "
      ]
     },
     "execution_count": 38,
     "metadata": {},
     "output_type": "execute_result"
    }
   ],
   "source": [
    "customer_df.head(2)"
   ]
  },
  {
   "cell_type": "code",
   "execution_count": 39,
   "metadata": {},
   "outputs": [
    {
     "data": {
      "text/plain": [
       "(array(['25-34'], dtype=object), array(['female'], dtype=object))"
      ]
     },
     "execution_count": 39,
     "metadata": {},
     "output_type": "execute_result"
    }
   ],
   "source": [
    "# Create a dataframe with the top audience demographic selected\n",
    "\n",
    "# Select 25-34 age group\n",
    "core_audience = customer_df.loc[customer_df['Age'] == '25-34']\n",
    "\n",
    "# Select females in dataset\n",
    "core_audience = core_audience.loc[core_audience['Gender'] == 'female']\n",
    "\n",
    "# Test output\n",
    "np.unique(core_audience.Age), np.unique(core_audience.Gender)"
   ]
  },
  {
   "cell_type": "code",
   "execution_count": 40,
   "metadata": {},
   "outputs": [
    {
     "data": {
      "text/html": [
       "<div>\n",
       "<style scoped>\n",
       "    .dataframe tbody tr th:only-of-type {\n",
       "        vertical-align: middle;\n",
       "    }\n",
       "\n",
       "    .dataframe tbody tr th {\n",
       "        vertical-align: top;\n",
       "    }\n",
       "\n",
       "    .dataframe thead th {\n",
       "        text-align: right;\n",
       "    }\n",
       "</style>\n",
       "<table border=\"1\" class=\"dataframe\">\n",
       "  <thead>\n",
       "    <tr style=\"text-align: right;\">\n",
       "      <th></th>\n",
       "      <th>Date</th>\n",
       "      <th>Page Title</th>\n",
       "      <th>Pageviews</th>\n",
       "      <th>Unique Pageviews</th>\n",
       "    </tr>\n",
       "  </thead>\n",
       "  <tbody>\n",
       "    <tr>\n",
       "      <th>1</th>\n",
       "      <td>20190606</td>\n",
       "      <td>Chrissy Teigen Wore the Pleated-Jean Trend | W...</td>\n",
       "      <td>29730</td>\n",
       "      <td>26236</td>\n",
       "    </tr>\n",
       "    <tr>\n",
       "      <th>4</th>\n",
       "      <td>20190608</td>\n",
       "      <td>Chrissy Teigen Wore the Pleated-Jean Trend | W...</td>\n",
       "      <td>18157</td>\n",
       "      <td>15970</td>\n",
       "    </tr>\n",
       "    <tr>\n",
       "      <th>5</th>\n",
       "      <td>20190620</td>\n",
       "      <td>The Best Miami Summer Trends for Under $100 | ...</td>\n",
       "      <td>16874</td>\n",
       "      <td>14081</td>\n",
       "    </tr>\n",
       "    <tr>\n",
       "      <th>9</th>\n",
       "      <td>20190602</td>\n",
       "      <td>These Stylish Summer Outfits Are Surprisingly ...</td>\n",
       "      <td>15429</td>\n",
       "      <td>13141</td>\n",
       "    </tr>\n",
       "    <tr>\n",
       "      <th>11</th>\n",
       "      <td>20190604</td>\n",
       "      <td>The 19 Best Shopping Picks for May 2019 | Who ...</td>\n",
       "      <td>14276</td>\n",
       "      <td>11435</td>\n",
       "    </tr>\n",
       "  </tbody>\n",
       "</table>\n",
       "</div>"
      ],
      "text/plain": [
       "        Date                                         Page Title  Pageviews  \\\n",
       "1   20190606  Chrissy Teigen Wore the Pleated-Jean Trend | W...      29730   \n",
       "4   20190608  Chrissy Teigen Wore the Pleated-Jean Trend | W...      18157   \n",
       "5   20190620  The Best Miami Summer Trends for Under $100 | ...      16874   \n",
       "9   20190602  These Stylish Summer Outfits Are Surprisingly ...      15429   \n",
       "11  20190604  The 19 Best Shopping Picks for May 2019 | Who ...      14276   \n",
       "\n",
       "    Unique Pageviews  \n",
       "1              26236  \n",
       "4              15970  \n",
       "5              14081  \n",
       "9              13141  \n",
       "11             11435  "
      ]
     },
     "execution_count": 40,
     "metadata": {},
     "output_type": "execute_result"
    }
   ],
   "source": [
    "# Drop unnecessary columns\n",
    "content_df = core_audience.drop(columns=['Age', 'Gender', 'Source / Medium'])\n",
    "content_df.head()"
   ]
  },
  {
   "cell_type": "markdown",
   "metadata": {},
   "source": [
    "*Convert Date to Datetime Object*"
   ]
  },
  {
   "cell_type": "code",
   "execution_count": 41,
   "metadata": {},
   "outputs": [],
   "source": [
    "# Import necessary modules\n",
    "from datetime import datetime"
   ]
  },
  {
   "cell_type": "code",
   "execution_count": 42,
   "metadata": {},
   "outputs": [
    {
     "data": {
      "text/html": [
       "<div>\n",
       "<style scoped>\n",
       "    .dataframe tbody tr th:only-of-type {\n",
       "        vertical-align: middle;\n",
       "    }\n",
       "\n",
       "    .dataframe tbody tr th {\n",
       "        vertical-align: top;\n",
       "    }\n",
       "\n",
       "    .dataframe thead th {\n",
       "        text-align: right;\n",
       "    }\n",
       "</style>\n",
       "<table border=\"1\" class=\"dataframe\">\n",
       "  <thead>\n",
       "    <tr style=\"text-align: right;\">\n",
       "      <th></th>\n",
       "      <th>Date</th>\n",
       "      <th>Page Title</th>\n",
       "      <th>Pageviews</th>\n",
       "      <th>Unique Pageviews</th>\n",
       "    </tr>\n",
       "  </thead>\n",
       "  <tbody>\n",
       "    <tr>\n",
       "      <th>1</th>\n",
       "      <td>2019-06-06</td>\n",
       "      <td>Chrissy Teigen Wore the Pleated-Jean Trend | W...</td>\n",
       "      <td>29730</td>\n",
       "      <td>26236</td>\n",
       "    </tr>\n",
       "    <tr>\n",
       "      <th>4</th>\n",
       "      <td>2019-06-08</td>\n",
       "      <td>Chrissy Teigen Wore the Pleated-Jean Trend | W...</td>\n",
       "      <td>18157</td>\n",
       "      <td>15970</td>\n",
       "    </tr>\n",
       "  </tbody>\n",
       "</table>\n",
       "</div>"
      ],
      "text/plain": [
       "        Date                                         Page Title  Pageviews  \\\n",
       "1 2019-06-06  Chrissy Teigen Wore the Pleated-Jean Trend | W...      29730   \n",
       "4 2019-06-08  Chrissy Teigen Wore the Pleated-Jean Trend | W...      18157   \n",
       "\n",
       "   Unique Pageviews  \n",
       "1             26236  \n",
       "4             15970  "
      ]
     },
     "execution_count": 42,
     "metadata": {},
     "output_type": "execute_result"
    }
   ],
   "source": [
    "# Convert Date integers to datetime\n",
    "content_df['Date'] = content_df['Date'].apply(lambda x: datetime.strptime(str(x), '%Y%m%d'))\n",
    "content_df.head(2)"
   ]
  },
  {
   "cell_type": "code",
   "execution_count": 43,
   "metadata": {},
   "outputs": [
    {
     "data": {
      "text/plain": [
       "('Chrissy Teigen Wore the Pleated-Jean Trend | Who What Wear',\n",
       " 'Chrissy Teigen Wore the Pleated-Jean Trend | Who What Wear',\n",
       " 'The Best Miami Summer Trends for Under $100 | Who What Wear')"
      ]
     },
     "execution_count": 43,
     "metadata": {},
     "output_type": "execute_result"
    }
   ],
   "source": [
    "# Assess the contents of the Page Title column\n",
    "content_df.iloc[0]['Page Title'], content_df.iloc[1]['Page Title'], content_df.iloc[2]['Page Title']"
   ]
  },
  {
   "cell_type": "markdown",
   "metadata": {},
   "source": [
    "*Observations*: Based off of the contents of the Page Title column, there appear to be duplicate contents as well as various subject matters. In order to establish which components of the Page Title column lead to the most engagement, "
   ]
  },
  {
   "cell_type": "code",
   "execution_count": 44,
   "metadata": {},
   "outputs": [
    {
     "data": {
      "text/html": [
       "<div>\n",
       "<style scoped>\n",
       "    .dataframe tbody tr th:only-of-type {\n",
       "        vertical-align: middle;\n",
       "    }\n",
       "\n",
       "    .dataframe tbody tr th {\n",
       "        vertical-align: top;\n",
       "    }\n",
       "\n",
       "    .dataframe thead th {\n",
       "        text-align: right;\n",
       "    }\n",
       "</style>\n",
       "<table border=\"1\" class=\"dataframe\">\n",
       "  <thead>\n",
       "    <tr style=\"text-align: right;\">\n",
       "      <th></th>\n",
       "      <th>Page Title</th>\n",
       "      <th>Pageviews</th>\n",
       "      <th>Unique Pageviews</th>\n",
       "    </tr>\n",
       "  </thead>\n",
       "  <tbody>\n",
       "    <tr>\n",
       "      <th>1</th>\n",
       "      <td>Chrissy Teigen Wore the Pleated-Jean Trend | W...</td>\n",
       "      <td>29730</td>\n",
       "      <td>26236</td>\n",
       "    </tr>\n",
       "    <tr>\n",
       "      <th>4</th>\n",
       "      <td>Chrissy Teigen Wore the Pleated-Jean Trend | W...</td>\n",
       "      <td>18157</td>\n",
       "      <td>15970</td>\n",
       "    </tr>\n",
       "  </tbody>\n",
       "</table>\n",
       "</div>"
      ],
      "text/plain": [
       "                                          Page Title  Pageviews  \\\n",
       "1  Chrissy Teigen Wore the Pleated-Jean Trend | W...      29730   \n",
       "4  Chrissy Teigen Wore the Pleated-Jean Trend | W...      18157   \n",
       "\n",
       "   Unique Pageviews  \n",
       "1             26236  \n",
       "4             15970  "
      ]
     },
     "execution_count": 44,
     "metadata": {},
     "output_type": "execute_result"
    }
   ],
   "source": [
    "# Drop date column\n",
    "content_df = content_df.drop(columns='Date')\n",
    "content_df.head(2)"
   ]
  },
  {
   "cell_type": "code",
   "execution_count": 46,
   "metadata": {},
   "outputs": [
    {
     "data": {
      "text/plain": [
       "1004"
      ]
     },
     "execution_count": 46,
     "metadata": {},
     "output_type": "execute_result"
    }
   ],
   "source": [
    "# Group dataframe by Page Title\n",
    "content_df = content_df.groupby('Page Title').sum().sort_values(\n",
    "                                        by='Unique Pageviews',ascending=False).reset_index()\n",
    "len(content_df)"
   ]
  },
  {
   "cell_type": "markdown",
   "metadata": {},
   "source": [
    "*What do the top 20% of articles (~200) have in common? What characteristics? Content?*"
   ]
  },
  {
   "cell_type": "code",
   "execution_count": 51,
   "metadata": {},
   "outputs": [
    {
     "data": {
      "text/plain": [
       "0     Chrissy Teigen Wore the Pleated-Jean Trend | W...\n",
       "1     The Best Miami Summer Trends for Under $100 | ...\n",
       "2                    Summer Beauty Buys | Who What Wear\n",
       "3                 Summer Wedding Makeup | Who What Wear\n",
       "4     These Stylish Summer Outfits Are Surprisingly ...\n",
       "5     We Tried On the 13 Biggest Summer Trends at Za...\n",
       "6     Affordable Summer Fashion Trends From a Chic H...\n",
       "7     How to Become a Morning Person | The Latest Fi...\n",
       "8      How to Wear Crop Tops With Jeans | Who What Wear\n",
       "9     11 of the Best Nontoxic Beauty ProductsÛÓand ...\n",
       "10    Celebrity Style and Fashion Trend Coverage | W...\n",
       "11    5 Summer Dress Trends That Will Be Everywhere ...\n",
       "12           How to Become a Morning Person | TheThirty\n",
       "13    Jennifer Lopez Wore 2019's Biggest Grandma Tre...\n",
       "14    7 Huge Fashion Trends You Can Find Way Cheaper...\n",
       "15    ZoÌÇ Kravitz Wore Bike Shorts to Her Paris Wed...\n",
       "16    7 Outdated Sandal Trends We're Splitting Up Wi...\n",
       "17    The 19 Best Shopping Picks for May 2019 | Who ...\n",
       "18    Shop These Fourth of July Outfit Ideas From H&...\n",
       "19    11 Cheap Summer Tops That Actually Look So Exp...\n",
       "20    The 16 Best Affordable Dresses to Wear with Sn...\n",
       "21    Here's What to Add to Your Wardrobe in June | ...\n",
       "22    Jennifer Lopez Wore a Belted Blazer With Skinn...\n",
       "23    Fashion Essentials to See You Through Summer |...\n",
       "24    The 23 Best Shopping Picks for June 2019 | Who...\n",
       "25    The Best Morning Routine for Success | The Lat...\n",
       "26    The High Street's Best Summer Mini, Midi and M...\n",
       "27    The Best Macy's Wedding Registry Items | Who W...\n",
       "28    22 Things From Zara's Summer Sale to Buy Immed...\n",
       "29     The Best Morning Routine for Success | TheThirty\n",
       "Name: Page Title, dtype: object"
      ]
     },
     "execution_count": 51,
     "metadata": {},
     "output_type": "execute_result"
    }
   ],
   "source": [
    "# View top 20 \n",
    "content_df['Page Title'][0:30]"
   ]
  },
  {
   "cell_type": "markdown",
   "metadata": {},
   "source": [
    "*Observations*: \n",
    "1. It looks like the source of the article is listed after the ' | ' symbol. \n",
    "2. Some articles appear to share a \"How to\" content purpose.\n",
    "3. Some articles focus on \"Trend\" \n",
    "4. Some articles focus on \"Best\" \n",
    "5. Some articles focus on \"Celebrity\"\n",
    "6. Some articles focus on \"Wore\", which relates to Celebrity/Influencer\n",
    "7. Some articles focus on \"Cheap\"\n",
    "8. Some articles focus on \"Shop\"/\"Shopping\"\n",
    "9. Some articles focus on \"How to\"\n",
    "10. Some articles focus on \"Buy\"\n",
    "11. Some articles focus on \"Summer\"\n",
    "12. Some articles focus on \"Most\"\n",
    "13. Some articles focus on \"Fashion\"\n",
    "\n",
    "For the sake of time, the top 200 articles will be assessed and groubed by the characteristics listed above. "
   ]
  },
  {
   "cell_type": "code",
   "execution_count": 76,
   "metadata": {},
   "outputs": [
    {
     "data": {
      "text/plain": [
       "200"
      ]
     },
     "execution_count": 76,
     "metadata": {},
     "output_type": "execute_result"
    }
   ],
   "source": [
    "# Select top 200\n",
    "top_200 = content_df.iloc[0:200]\n",
    "len(top_200)"
   ]
  },
  {
   "cell_type": "code",
   "execution_count": 77,
   "metadata": {},
   "outputs": [],
   "source": [
    "# Rename Page Title Column for easy queries\n",
    "top_200.columns = ['PageTitle', 'Pageviews', 'Unique Pageviews']"
   ]
  },
  {
   "cell_type": "code",
   "execution_count": 78,
   "metadata": {},
   "outputs": [],
   "source": [
    "# Import necessary modules for insertions with SQL \n",
    "import pandasql as ps"
   ]
  },
  {
   "cell_type": "code",
   "execution_count": 85,
   "metadata": {},
   "outputs": [],
   "source": [
    "# Query to find out the number of articles based on the conditions above\n",
    "query = \"\"\"\n",
    "select\n",
    "\n",
    "  case \n",
    "    when PageTitle like '%Trend%' then 'Trends'\n",
    "    when PageTitle like '%Best%' then 'BestOf'\n",
    "    when PageTitle like '%Celeb%' then 'Celebrity'\n",
    "    when PageTitle like '%Wore%' then 'Celebrity'\n",
    "    when PageTitle like '%Cheap%' then 'Affordable'\n",
    "    when PageTitle like '%Affordable%' then 'Affordable'\n",
    "    when PageTitle like '%Shop%' then 'Shop'\n",
    "    when PageTitle like '%How%' then 'HowTo'\n",
    "    when PageTitle like '%Buy%' then 'Buy'\n",
    "    when PageTitle like '%Summer%' then 'Summer'\n",
    "    when PageTitle like '%Most%' then 'Most'\n",
    "    when PageTitle like '%Fashion%' then 'Fashion'\n",
    "    else 'NotSpecified'\n",
    "    \n",
    "  end as PageTitle\n",
    "  \n",
    "from top_200\"\"\""
   ]
  },
  {
   "cell_type": "code",
   "execution_count": 86,
   "metadata": {},
   "outputs": [
    {
     "name": "stderr",
     "output_type": "stream",
     "text": [
      "/anaconda3/lib/python3.7/site-packages/ipykernel_launcher.py:2: SettingWithCopyWarning: \n",
      "A value is trying to be set on a copy of a slice from a DataFrame.\n",
      "Try using .loc[row_indexer,col_indexer] = value instead\n",
      "\n",
      "See the caveats in the documentation: http://pandas.pydata.org/pandas-docs/stable/indexing.html#indexing-view-versus-copy\n",
      "  \n"
     ]
    },
    {
     "data": {
      "text/html": [
       "<div>\n",
       "<style scoped>\n",
       "    .dataframe tbody tr th:only-of-type {\n",
       "        vertical-align: middle;\n",
       "    }\n",
       "\n",
       "    .dataframe tbody tr th {\n",
       "        vertical-align: top;\n",
       "    }\n",
       "\n",
       "    .dataframe thead th {\n",
       "        text-align: right;\n",
       "    }\n",
       "</style>\n",
       "<table border=\"1\" class=\"dataframe\">\n",
       "  <thead>\n",
       "    <tr style=\"text-align: right;\">\n",
       "      <th></th>\n",
       "      <th>PageTitle</th>\n",
       "      <th>Pageviews</th>\n",
       "      <th>Unique Pageviews</th>\n",
       "      <th>Top 13 Categories</th>\n",
       "      <th>Top 11 Categories</th>\n",
       "    </tr>\n",
       "  </thead>\n",
       "  <tbody>\n",
       "    <tr>\n",
       "      <th>0</th>\n",
       "      <td>Chrissy Teigen Wore the Pleated-Jean Trend | W...</td>\n",
       "      <td>142141</td>\n",
       "      <td>124995</td>\n",
       "      <td>Trends</td>\n",
       "      <td>Trends</td>\n",
       "    </tr>\n",
       "    <tr>\n",
       "      <th>1</th>\n",
       "      <td>The Best Miami Summer Trends for Under $100 | ...</td>\n",
       "      <td>109396</td>\n",
       "      <td>93411</td>\n",
       "      <td>Trends</td>\n",
       "      <td>Trends</td>\n",
       "    </tr>\n",
       "    <tr>\n",
       "      <th>2</th>\n",
       "      <td>Summer Beauty Buys | Who What Wear</td>\n",
       "      <td>97386</td>\n",
       "      <td>87388</td>\n",
       "      <td>Buy</td>\n",
       "      <td>Buy</td>\n",
       "    </tr>\n",
       "    <tr>\n",
       "      <th>3</th>\n",
       "      <td>Summer Wedding Makeup | Who What Wear</td>\n",
       "      <td>69361</td>\n",
       "      <td>62773</td>\n",
       "      <td>Summer</td>\n",
       "      <td>Summer</td>\n",
       "    </tr>\n",
       "    <tr>\n",
       "      <th>4</th>\n",
       "      <td>These Stylish Summer Outfits Are Surprisingly ...</td>\n",
       "      <td>71656</td>\n",
       "      <td>61164</td>\n",
       "      <td>Affordable</td>\n",
       "      <td>Affordable</td>\n",
       "    </tr>\n",
       "  </tbody>\n",
       "</table>\n",
       "</div>"
      ],
      "text/plain": [
       "                                           PageTitle  Pageviews  \\\n",
       "0  Chrissy Teigen Wore the Pleated-Jean Trend | W...     142141   \n",
       "1  The Best Miami Summer Trends for Under $100 | ...     109396   \n",
       "2                 Summer Beauty Buys | Who What Wear      97386   \n",
       "3              Summer Wedding Makeup | Who What Wear      69361   \n",
       "4  These Stylish Summer Outfits Are Surprisingly ...      71656   \n",
       "\n",
       "   Unique Pageviews Top 13 Categories Top 11 Categories  \n",
       "0            124995            Trends            Trends  \n",
       "1             93411            Trends            Trends  \n",
       "2             87388               Buy               Buy  \n",
       "3             62773            Summer            Summer  \n",
       "4             61164        Affordable        Affordable  "
      ]
     },
     "execution_count": 86,
     "metadata": {},
     "output_type": "execute_result"
    }
   ],
   "source": [
    "# Add modified 11 categories to top_200\n",
    "top_200['Top 11 Categories'] = ps.sqldf(query)\n",
    "top_200.head()"
   ]
  },
  {
   "cell_type": "markdown",
   "metadata": {},
   "source": [
    "*Visualize*"
   ]
  },
  {
   "cell_type": "code",
   "execution_count": 89,
   "metadata": {},
   "outputs": [
    {
     "data": {
      "image/png": "[encoded data removed]",
      "text/plain": [
       "<Figure size 576x576 with 1 Axes>"
      ]
     },
     "metadata": {
      "needs_background": "light"
     },
     "output_type": "display_data"
    }
   ],
   "source": [
    "# Plot counts and show percentages\n",
    "ax = sns.countplot(x='Top 11 Categories', data=top_200)\n",
    "\n",
    "# Percentages added from source code:\n",
    "# https://stackoverflow.com/questions/31749448/how-to-add-percentages-on-top-of-bars-in-seaborn/31754317\n",
    "for p in ax.patches:\n",
    "    height = p.get_height()\n",
    "    ax.text(p.get_x() + p.get_width()/2.,\n",
    "            height + 3,\n",
    "            '{:1.2f}'.format( (height/len(top_200['Top 13 Categories'])) * 100),\n",
    "            ha=\"center\")  \n",
    "ax.set(title='Top 11 Article Categories of WWW [for Core Audience]', ylabel='Percent')\n",
    "plt.xticks(rotation=45)\n",
    "plt.savefig('top11categories.png', dpi=300)\n",
    "plt.show()"
   ]
  },
  {
   "cell_type": "markdown",
   "metadata": {},
   "source": [
    "### Conclusion to Question 2: \n",
    "While this is a minimal analysis of the data provided within each article, the following generalized trends can be deduced from this analysis of the top 200 articles within the dataset: \n",
    "1. Articles pretaining to **Trend** have the most Unique Page Views (**~25% of the total**)\n",
    "2. Articles pretaining to **NotSpecified** have the second most Unique Page Views (**~20% of the total**)\n",
    "        *Note: The 'NotSpecified' category showing up as one of the top categories is a 'non-conclusion' since it indicates that the SQL query was not specific enough and should add more categories for a more accurate result. \n",
    "3. Articles pretaining to **Best Of** have the third most Unique Page Views (**~19% of the total**)\n",
    "Further analyses can be performed to accurately select which categories should be used within the SQL query as well as incorporate the differences between the sources of the articles."
   ]
  },
  {
   "cell_type": "markdown",
   "metadata": {},
   "source": [
    "## Question 3: What are the channels that are driving engagement? Which traffic sources should we lean into, which traffic sources should we deprioritize?\n",
    "\n",
    "In order to assess which channels drive engagement, the top columns within the dataset provided would be: *Date, Source/Medium, Pageviews, and Unique Pageviews*. Additionally, since the core audience demographic has been identified, the success and lapse in success of these channels can be compared and contrasted between the age and gender demographics. However, For the sake of this assessment, only the top audience demographic, **women ages 25-24**, will be analyzed in order to answer the questions above."
   ]
  },
  {
   "cell_type": "code",
   "execution_count": 27,
   "metadata": {},
   "outputs": [
    {
     "data": {
      "text/html": [
       "<div>\n",
       "<style scoped>\n",
       "    .dataframe tbody tr th:only-of-type {\n",
       "        vertical-align: middle;\n",
       "    }\n",
       "\n",
       "    .dataframe tbody tr th {\n",
       "        vertical-align: top;\n",
       "    }\n",
       "\n",
       "    .dataframe thead th {\n",
       "        text-align: right;\n",
       "    }\n",
       "</style>\n",
       "<table border=\"1\" class=\"dataframe\">\n",
       "  <thead>\n",
       "    <tr style=\"text-align: right;\">\n",
       "      <th></th>\n",
       "      <th>Date</th>\n",
       "      <th>Page Title</th>\n",
       "      <th>Age</th>\n",
       "      <th>Gender</th>\n",
       "      <th>Source / Medium</th>\n",
       "      <th>Pageviews</th>\n",
       "      <th>Unique Pageviews</th>\n",
       "    </tr>\n",
       "  </thead>\n",
       "  <tbody>\n",
       "    <tr>\n",
       "      <th>1</th>\n",
       "      <td>20190606</td>\n",
       "      <td>Chrissy Teigen Wore the Pleated-Jean Trend | W...</td>\n",
       "      <td>25-34</td>\n",
       "      <td>female</td>\n",
       "      <td>m.facebook.com / referral</td>\n",
       "      <td>29730</td>\n",
       "      <td>26236</td>\n",
       "    </tr>\n",
       "    <tr>\n",
       "      <th>4</th>\n",
       "      <td>20190608</td>\n",
       "      <td>Chrissy Teigen Wore the Pleated-Jean Trend | W...</td>\n",
       "      <td>25-34</td>\n",
       "      <td>female</td>\n",
       "      <td>m.facebook.com / referral</td>\n",
       "      <td>18157</td>\n",
       "      <td>15970</td>\n",
       "    </tr>\n",
       "  </tbody>\n",
       "</table>\n",
       "</div>"
      ],
      "text/plain": [
       "       Date                                         Page Title    Age  Gender  \\\n",
       "1  20190606  Chrissy Teigen Wore the Pleated-Jean Trend | W...  25-34  female   \n",
       "4  20190608  Chrissy Teigen Wore the Pleated-Jean Trend | W...  25-34  female   \n",
       "\n",
       "             Source / Medium  Pageviews  Unique Pageviews  \n",
       "1  m.facebook.com / referral      29730             26236  \n",
       "4  m.facebook.com / referral      18157             15970  "
      ]
     },
     "execution_count": 27,
     "metadata": {},
     "output_type": "execute_result"
    }
   ],
   "source": [
    "core_audience.head(2)"
   ]
  },
  {
   "cell_type": "code",
   "execution_count": 28,
   "metadata": {},
   "outputs": [
    {
     "data": {
      "text/html": [
       "<div>\n",
       "<style scoped>\n",
       "    .dataframe tbody tr th:only-of-type {\n",
       "        vertical-align: middle;\n",
       "    }\n",
       "\n",
       "    .dataframe tbody tr th {\n",
       "        vertical-align: top;\n",
       "    }\n",
       "\n",
       "    .dataframe thead th {\n",
       "        text-align: right;\n",
       "    }\n",
       "</style>\n",
       "<table border=\"1\" class=\"dataframe\">\n",
       "  <thead>\n",
       "    <tr style=\"text-align: right;\">\n",
       "      <th></th>\n",
       "      <th>Source / Medium</th>\n",
       "      <th>Pageviews</th>\n",
       "      <th>Unique Pageviews</th>\n",
       "    </tr>\n",
       "  </thead>\n",
       "  <tbody>\n",
       "    <tr>\n",
       "      <th>1</th>\n",
       "      <td>m.facebook.com / referral</td>\n",
       "      <td>29730</td>\n",
       "      <td>26236</td>\n",
       "    </tr>\n",
       "    <tr>\n",
       "      <th>4</th>\n",
       "      <td>m.facebook.com / referral</td>\n",
       "      <td>18157</td>\n",
       "      <td>15970</td>\n",
       "    </tr>\n",
       "  </tbody>\n",
       "</table>\n",
       "</div>"
      ],
      "text/plain": [
       "             Source / Medium  Pageviews  Unique Pageviews\n",
       "1  m.facebook.com / referral      29730             26236\n",
       "4  m.facebook.com / referral      18157             15970"
      ]
     },
     "execution_count": 28,
     "metadata": {},
     "output_type": "execute_result"
    }
   ],
   "source": [
    "# Create a dataframe for engagement\n",
    "engagement_df = core_audience[['Source / Medium', 'Pageviews', 'Unique Pageviews']]\n",
    "engagement_df.head(2)"
   ]
  },
  {
   "cell_type": "code",
   "execution_count": 29,
   "metadata": {},
   "outputs": [
    {
     "data": {
      "text/plain": [
       "61"
      ]
     },
     "execution_count": 29,
     "metadata": {},
     "output_type": "execute_result"
    }
   ],
   "source": [
    "# Group data by Source/Medium, which Pageviews and Unqiue Pageviews summed\n",
    "engagement_df = engagement_df.groupby('Source / Medium').sum().sort_values(\n",
    "                                        by='Unique Pageviews',ascending=False).reset_index()\n",
    "len(engagement_df)"
   ]
  },
  {
   "cell_type": "code",
   "execution_count": 30,
   "metadata": {},
   "outputs": [
    {
     "data": {
      "text/html": [
       "<div>\n",
       "<style scoped>\n",
       "    .dataframe tbody tr th:only-of-type {\n",
       "        vertical-align: middle;\n",
       "    }\n",
       "\n",
       "    .dataframe tbody tr th {\n",
       "        vertical-align: top;\n",
       "    }\n",
       "\n",
       "    .dataframe thead th {\n",
       "        text-align: right;\n",
       "    }\n",
       "</style>\n",
       "<table border=\"1\" class=\"dataframe\">\n",
       "  <thead>\n",
       "    <tr style=\"text-align: right;\">\n",
       "      <th></th>\n",
       "      <th>Source / Medium</th>\n",
       "      <th>Pageviews</th>\n",
       "      <th>Unique Pageviews</th>\n",
       "    </tr>\n",
       "  </thead>\n",
       "  <tbody>\n",
       "    <tr>\n",
       "      <th>0</th>\n",
       "      <td>m.facebook.com / referral</td>\n",
       "      <td>1353721</td>\n",
       "      <td>1153496</td>\n",
       "    </tr>\n",
       "    <tr>\n",
       "      <th>1</th>\n",
       "      <td>google / organic</td>\n",
       "      <td>855424</td>\n",
       "      <td>670559</td>\n",
       "    </tr>\n",
       "    <tr>\n",
       "      <th>2</th>\n",
       "      <td>newsletter / email</td>\n",
       "      <td>673540</td>\n",
       "      <td>544691</td>\n",
       "    </tr>\n",
       "    <tr>\n",
       "      <th>3</th>\n",
       "      <td>tpc.googlesyndication.com / referral</td>\n",
       "      <td>306562</td>\n",
       "      <td>244204</td>\n",
       "    </tr>\n",
       "    <tr>\n",
       "      <th>4</th>\n",
       "      <td>www-whowhatwear-com.cdn.ampproject.org / referral</td>\n",
       "      <td>139332</td>\n",
       "      <td>110003</td>\n",
       "    </tr>\n",
       "    <tr>\n",
       "      <th>5</th>\n",
       "      <td>(direct) / (none)</td>\n",
       "      <td>126560</td>\n",
       "      <td>99558</td>\n",
       "    </tr>\n",
       "  </tbody>\n",
       "</table>\n",
       "</div>"
      ],
      "text/plain": [
       "                                     Source / Medium  Pageviews  \\\n",
       "0                          m.facebook.com / referral    1353721   \n",
       "1                                   google / organic     855424   \n",
       "2                                 newsletter / email     673540   \n",
       "3               tpc.googlesyndication.com / referral     306562   \n",
       "4  www-whowhatwear-com.cdn.ampproject.org / referral     139332   \n",
       "5                                  (direct) / (none)     126560   \n",
       "\n",
       "   Unique Pageviews  \n",
       "0           1153496  \n",
       "1            670559  \n",
       "2            544691  \n",
       "3            244204  \n",
       "4            110003  \n",
       "5             99558  "
      ]
     },
     "execution_count": 30,
     "metadata": {},
     "output_type": "execute_result"
    }
   ],
   "source": [
    "# Top 10% Mediums for Engagement / 'Unique Page Views'\n",
    "engagement_df.head(6)"
   ]
  },
  {
   "cell_type": "code",
   "execution_count": 31,
   "metadata": {},
   "outputs": [
    {
     "data": {
      "text/html": [
       "<div>\n",
       "<style scoped>\n",
       "    .dataframe tbody tr th:only-of-type {\n",
       "        vertical-align: middle;\n",
       "    }\n",
       "\n",
       "    .dataframe tbody tr th {\n",
       "        vertical-align: top;\n",
       "    }\n",
       "\n",
       "    .dataframe thead th {\n",
       "        text-align: right;\n",
       "    }\n",
       "</style>\n",
       "<table border=\"1\" class=\"dataframe\">\n",
       "  <thead>\n",
       "    <tr style=\"text-align: right;\">\n",
       "      <th></th>\n",
       "      <th>Source / Medium</th>\n",
       "      <th>Pageviews</th>\n",
       "      <th>Unique Pageviews</th>\n",
       "    </tr>\n",
       "  </thead>\n",
       "  <tbody>\n",
       "    <tr>\n",
       "      <th>51</th>\n",
       "      <td>makeup.com / facebook</td>\n",
       "      <td>128</td>\n",
       "      <td>109</td>\n",
       "    </tr>\n",
       "    <tr>\n",
       "      <th>52</th>\n",
       "      <td>l.instagram.com / referral</td>\n",
       "      <td>122</td>\n",
       "      <td>100</td>\n",
       "    </tr>\n",
       "    <tr>\n",
       "      <th>53</th>\n",
       "      <td>reddit.com / referral</td>\n",
       "      <td>100</td>\n",
       "      <td>82</td>\n",
       "    </tr>\n",
       "    <tr>\n",
       "      <th>54</th>\n",
       "      <td>brides / facebook</td>\n",
       "      <td>90</td>\n",
       "      <td>81</td>\n",
       "    </tr>\n",
       "    <tr>\n",
       "      <th>55</th>\n",
       "      <td>vox.com / referral</td>\n",
       "      <td>106</td>\n",
       "      <td>77</td>\n",
       "    </tr>\n",
       "    <tr>\n",
       "      <th>56</th>\n",
       "      <td>facebook / social</td>\n",
       "      <td>98</td>\n",
       "      <td>74</td>\n",
       "    </tr>\n",
       "    <tr>\n",
       "      <th>57</th>\n",
       "      <td>purewow / facebook</td>\n",
       "      <td>81</td>\n",
       "      <td>73</td>\n",
       "    </tr>\n",
       "    <tr>\n",
       "      <th>58</th>\n",
       "      <td>dash hudson / instagram-owned</td>\n",
       "      <td>71</td>\n",
       "      <td>63</td>\n",
       "    </tr>\n",
       "    <tr>\n",
       "      <th>59</th>\n",
       "      <td>app.asana.com / referral</td>\n",
       "      <td>21</td>\n",
       "      <td>18</td>\n",
       "    </tr>\n",
       "    <tr>\n",
       "      <th>60</th>\n",
       "      <td>social-pinterest-button / social</td>\n",
       "      <td>14</td>\n",
       "      <td>11</td>\n",
       "    </tr>\n",
       "  </tbody>\n",
       "</table>\n",
       "</div>"
      ],
      "text/plain": [
       "                     Source / Medium  Pageviews  Unique Pageviews\n",
       "51             makeup.com / facebook        128               109\n",
       "52        l.instagram.com / referral        122               100\n",
       "53             reddit.com / referral        100                82\n",
       "54                 brides / facebook         90                81\n",
       "55                vox.com / referral        106                77\n",
       "56                 facebook / social         98                74\n",
       "57                purewow / facebook         81                73\n",
       "58     dash hudson / instagram-owned         71                63\n",
       "59          app.asana.com / referral         21                18\n",
       "60  social-pinterest-button / social         14                11"
      ]
     },
     "execution_count": 31,
     "metadata": {},
     "output_type": "execute_result"
    }
   ],
   "source": [
    "# Bottom 10% Mediums for Engagement / 'Unique Page Views'\n",
    "engagement_df.tail(10)"
   ]
  },
  {
   "cell_type": "markdown",
   "metadata": {},
   "source": [
    "*Visualize*"
   ]
  },
  {
   "cell_type": "code",
   "execution_count": 32,
   "metadata": {},
   "outputs": [
    {
     "data": {
      "image/png": "[encoded data removed]",
      "text/plain": [
       "<Figure size 576x576 with 1 Axes>"
      ]
     },
     "metadata": {
      "needs_background": "light"
     },
     "output_type": "display_data"
    }
   ],
   "source": [
    "# Plot counts and show percentages\n",
    "ax = sns.barplot(x='Source / Medium', y='Unique Pageviews', data=engagement_df[0:10])\n",
    "\n",
    "# Percentages added from source code:\n",
    "# https://stackoverflow.com/questions/31749448/how-to-add-percentages-on-top-of-bars-in-seaborn/31754317\n",
    "for p in ax.patches:\n",
    "    height = p.get_height()\n",
    "    ax.text(p.get_x() + p.get_width()/2.,\n",
    "            height + 3,\n",
    "            '{:1.2f}'.format( (height/sum(engagement_df['Unique Pageviews'])) * 100),\n",
    "            ha=\"center\")  \n",
    "ax.set(title='Top Percent of Unique Pageviews to WWW site by Medium [for Core Audience]', ylabel='Percent')\n",
    "plt.xticks(rotation=45)\n",
    "plt.savefig('topsources.png', dpi=300)\n",
    "plt.show()"
   ]
  },
  {
   "cell_type": "code",
   "execution_count": 33,
   "metadata": {},
   "outputs": [
    {
     "data": {
      "image/png": "[encoded data removed]",
      "text/plain": [
       "<Figure size 576x576 with 1 Axes>"
      ]
     },
     "metadata": {
      "needs_background": "light"
     },
     "output_type": "display_data"
    }
   ],
   "source": [
    "# Plot counts and show percentages\n",
    "ax = sns.barplot(x='Source / Medium', y='Unique Pageviews', data=engagement_df[-20:-1])\n",
    "\n",
    "# Percentages added from source code:\n",
    "# https://stackoverflow.com/questions/31749448/how-to-add-percentages-on-top-of-bars-in-seaborn/31754317\n",
    "for p in ax.patches:\n",
    "    height = p.get_height()\n",
    "    ax.text(p.get_x() + p.get_width()/2.,\n",
    "            height + 3,\n",
    "            '{:1.2f}'.format( (height/sum(engagement_df['Unique Pageviews'])) * 100),\n",
    "            ha=\"center\")  \n",
    "ax.set(title='Bottom Percent of Unique Pageviews to WWW site by Medium [for Core Audience]', ylabel='Percent')\n",
    "plt.xticks(rotation=45)\n",
    "plt.savefig('bottomsources.png', dpi=300)\n",
    "plt.show()"
   ]
  },
  {
   "cell_type": "markdown",
   "metadata": {},
   "source": [
    "### Conclusion to Question 3: \n",
    "The **Top 4 of Channels that are driving user engagement, based on Unique Pageviews of the Core Audience**:\n",
    "1. m.facebook.com / referral (*~33% of the total Unique Pageviews*)\n",
    "2. google / organic\t(*~19% of the total Unique Pageviews*)\n",
    "3. newsletter / email (*~15% of the total Unique Pageviews*)\n",
    "4. tpc.googlesyndication.com / referral (*~7% of the total Unique Pageviews*)\n",
    "\n",
    "These sources account for **more than 74% of user engagement** (based on Unique Pageviews), and should be prioritized for future engagement of the Core Audience (*women ages 25-34*). As seen in the graph, the percent of Unique Pageviews by Source drastically decreases. The financial impact of each fraction of a percent can thus be quantified, and any channel falling below the line of profit should be deprioritized. The lowest ranking of these channels include:\n",
    "\n",
    "- makeup.com / facebook (*~0% of the total Unique Pageviews*)\n",
    "- instagram.com / referral\t(*~0% of the total Unique Pageviews*)\n",
    "- reddit.com / referral\t(*~0% of the total Unique Pageviews*)\n",
    "- brides / facebook\t(*~0% of the total Unique Pageviews*)\n",
    "- vox.com / referral (*~0% of the total Unique Pageviews*)\n",
    "- facebook / social\t(*~0% of the total Unique Pageviews*)\n",
    "- purewow / facebook (*~0% of the total Unique Pageviews*)\n",
    "- dash hudson / instagram-owned\t(*~0% of the total Unique Pageviews*)\n",
    "- app.asana.com / referral\t(*~0% of the total Unique Pageviews*)\n",
    "- social-pinterest-button / social\t(*~0% of the total Unique Pageviews*)"
   ]
  }
 ],
 "metadata": {
  "kernelspec": {
   "display_name": "Python 3",
   "language": "python",
   "name": "python3"
  },
  "language_info": {
   "codemirror_mode": {
    "name": "ipython",
    "version": 3
   },
   "file_extension": ".py",
   "mimetype": "text/x-python",
   "name": "python",
   "nbconvert_exporter": "python",
   "pygments_lexer": "ipython3",
   "version": "3.7.3"
  }
 },
 "nbformat": 4,
 "nbformat_minor": 2
}
