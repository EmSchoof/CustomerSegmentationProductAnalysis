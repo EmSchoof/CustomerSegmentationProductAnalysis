{
 "cells": [
  {
   "cell_type": "markdown",
   "metadata": {},
   "source": [
    "### Dataset description\n",
    "**Source**: Google Analytics hit (pageview) level data, by date and by article title.\n",
    "\n",
    "**Field descriptions**:\n",
    "- Date - year, month, day of hit.\n",
    "- Page Title - article title that was viewed by user\n",
    "- Age - age of user that visited the site\n",
    "- Gender - gender of user that visited the site\n",
    "- Source/Medium - the referral source of the hit or the website that the user was on before visiting whowhatwear.com\n",
    "- Pageviews - a hit of a url on our site that is being tracked by theAnalytics tracking code.\n",
    "- Unique Pageviews - represents the number of sessions during which that page was viewed one or more times."
   ]
  },
  {
   "cell_type": "markdown",
   "metadata": {},
   "source": [
    "## Question 2: What content resonates with her? What are the themes and frames that drive engagement?\n",
    "\n",
    "For the sake of this assessment, only the top audience demographic, **women ages 25-24**, will be analyzed in order to answer the questions above. Within the dataset, the two most applicable columns with content information are *Pageviews, Unique Pageviews, and Page Title*. It will also be assumed that an article with the most unique page views, meaning more sessions by readers, will be content that resonates the most with the core audience."
   ]
  },
  {
   "cell_type": "code",
   "execution_count": 1,
   "metadata": {},
   "outputs": [
    {
     "name": "stdout",
     "output_type": "stream",
     "text": [
      "(32755, 7)\n"
     ]
    },
    {
     "data": {
      "text/html": [
       "<div>\n",
       "<style scoped>\n",
       "    .dataframe tbody tr th:only-of-type {\n",
       "        vertical-align: middle;\n",
       "    }\n",
       "\n",
       "    .dataframe tbody tr th {\n",
       "        vertical-align: top;\n",
       "    }\n",
       "\n",
       "    .dataframe thead th {\n",
       "        text-align: right;\n",
       "    }\n",
       "</style>\n",
       "<table border=\"1\" class=\"dataframe\">\n",
       "  <thead>\n",
       "    <tr style=\"text-align: right;\">\n",
       "      <th></th>\n",
       "      <th>Date</th>\n",
       "      <th>Page Title</th>\n",
       "      <th>Age</th>\n",
       "      <th>Gender</th>\n",
       "      <th>Source / Medium</th>\n",
       "      <th>Pageviews</th>\n",
       "      <th>Unique Pageviews</th>\n",
       "    </tr>\n",
       "  </thead>\n",
       "  <tbody>\n",
       "    <tr>\n",
       "      <th>0</th>\n",
       "      <td>2019-06-06</td>\n",
       "      <td>Chrissy Teigen Wore the Pleated-Jean Trend | W...</td>\n",
       "      <td>35-44</td>\n",
       "      <td>female</td>\n",
       "      <td>m.facebook.com / referral</td>\n",
       "      <td>35541</td>\n",
       "      <td>31670</td>\n",
       "    </tr>\n",
       "    <tr>\n",
       "      <th>1</th>\n",
       "      <td>2019-06-06</td>\n",
       "      <td>Chrissy Teigen Wore the Pleated-Jean Trend | W...</td>\n",
       "      <td>25-34</td>\n",
       "      <td>female</td>\n",
       "      <td>m.facebook.com / referral</td>\n",
       "      <td>29730</td>\n",
       "      <td>26236</td>\n",
       "    </tr>\n",
       "    <tr>\n",
       "      <th>2</th>\n",
       "      <td>2019-06-08</td>\n",
       "      <td>Chrissy Teigen Wore the Pleated-Jean Trend | W...</td>\n",
       "      <td>35-44</td>\n",
       "      <td>female</td>\n",
       "      <td>m.facebook.com / referral</td>\n",
       "      <td>21249</td>\n",
       "      <td>18923</td>\n",
       "    </tr>\n",
       "    <tr>\n",
       "      <th>3</th>\n",
       "      <td>2019-06-06</td>\n",
       "      <td>Chrissy Teigen Wore the Pleated-Jean Trend | W...</td>\n",
       "      <td>45-54</td>\n",
       "      <td>female</td>\n",
       "      <td>m.facebook.com / referral</td>\n",
       "      <td>18858</td>\n",
       "      <td>16825</td>\n",
       "    </tr>\n",
       "    <tr>\n",
       "      <th>4</th>\n",
       "      <td>2019-06-08</td>\n",
       "      <td>Chrissy Teigen Wore the Pleated-Jean Trend | W...</td>\n",
       "      <td>25-34</td>\n",
       "      <td>female</td>\n",
       "      <td>m.facebook.com / referral</td>\n",
       "      <td>18157</td>\n",
       "      <td>15970</td>\n",
       "    </tr>\n",
       "  </tbody>\n",
       "</table>\n",
       "</div>"
      ],
      "text/plain": [
       "        Date                                         Page Title    Age  \\\n",
       "0 2019-06-06  Chrissy Teigen Wore the Pleated-Jean Trend | W...  35-44   \n",
       "1 2019-06-06  Chrissy Teigen Wore the Pleated-Jean Trend | W...  25-34   \n",
       "2 2019-06-08  Chrissy Teigen Wore the Pleated-Jean Trend | W...  35-44   \n",
       "3 2019-06-06  Chrissy Teigen Wore the Pleated-Jean Trend | W...  45-54   \n",
       "4 2019-06-08  Chrissy Teigen Wore the Pleated-Jean Trend | W...  25-34   \n",
       "\n",
       "   Gender            Source / Medium  Pageviews  Unique Pageviews  \n",
       "0  female  m.facebook.com / referral      35541             31670  \n",
       "1  female  m.facebook.com / referral      29730             26236  \n",
       "2  female  m.facebook.com / referral      21249             18923  \n",
       "3  female  m.facebook.com / referral      18858             16825  \n",
       "4  female  m.facebook.com / referral      18157             15970  "
      ]
     },
     "execution_count": 1,
     "metadata": {},
     "output_type": "execute_result"
    }
   ],
   "source": [
    "# Import necessary modules\n",
    "import pandas as pd\n",
    "import numpy as np\n",
    "\n",
    "# Import data\n",
    "%store -r customer_df\n",
    "print(customer_df.shape)\n",
    "customer_df.head()"
   ]
  },
  {
   "cell_type": "markdown",
   "metadata": {},
   "source": [
    "*Create a dataframe with the top audience demographic selected:*"
   ]
  },
  {
   "cell_type": "code",
   "execution_count": 2,
   "metadata": {},
   "outputs": [
    {
     "data": {
      "text/plain": [
       "(array(['25-34'], dtype=object), array(['female'], dtype=object))"
      ]
     },
     "execution_count": 2,
     "metadata": {},
     "output_type": "execute_result"
    }
   ],
   "source": [
    "# Select 25-34 age group\n",
    "core_audience = customer_df.loc[customer_df['Age'] == '25-34']\n",
    "\n",
    "# Select females in dataset\n",
    "core_audience = core_audience.loc[core_audience['Gender'] == 'female']\n",
    "\n",
    "# Verify output\n",
    "np.unique(core_audience.Age), np.unique(core_audience.Gender)"
   ]
  },
  {
   "cell_type": "code",
   "execution_count": 3,
   "metadata": {},
   "outputs": [
    {
     "name": "stdout",
     "output_type": "stream",
     "text": [
      "(9183, 5)\n"
     ]
    },
    {
     "data": {
      "text/html": [
       "<div>\n",
       "<style scoped>\n",
       "    .dataframe tbody tr th:only-of-type {\n",
       "        vertical-align: middle;\n",
       "    }\n",
       "\n",
       "    .dataframe tbody tr th {\n",
       "        vertical-align: top;\n",
       "    }\n",
       "\n",
       "    .dataframe thead th {\n",
       "        text-align: right;\n",
       "    }\n",
       "</style>\n",
       "<table border=\"1\" class=\"dataframe\">\n",
       "  <thead>\n",
       "    <tr style=\"text-align: right;\">\n",
       "      <th></th>\n",
       "      <th>Date</th>\n",
       "      <th>Page Title</th>\n",
       "      <th>Source / Medium</th>\n",
       "      <th>Pageviews</th>\n",
       "      <th>Unique Pageviews</th>\n",
       "    </tr>\n",
       "  </thead>\n",
       "  <tbody>\n",
       "    <tr>\n",
       "      <th>1</th>\n",
       "      <td>2019-06-06</td>\n",
       "      <td>Chrissy Teigen Wore the Pleated-Jean Trend | W...</td>\n",
       "      <td>m.facebook.com / referral</td>\n",
       "      <td>29730</td>\n",
       "      <td>26236</td>\n",
       "    </tr>\n",
       "    <tr>\n",
       "      <th>4</th>\n",
       "      <td>2019-06-08</td>\n",
       "      <td>Chrissy Teigen Wore the Pleated-Jean Trend | W...</td>\n",
       "      <td>m.facebook.com / referral</td>\n",
       "      <td>18157</td>\n",
       "      <td>15970</td>\n",
       "    </tr>\n",
       "    <tr>\n",
       "      <th>5</th>\n",
       "      <td>2019-06-20</td>\n",
       "      <td>The Best Miami Summer Trends for Under $100 | ...</td>\n",
       "      <td>m.facebook.com / referral</td>\n",
       "      <td>16874</td>\n",
       "      <td>14081</td>\n",
       "    </tr>\n",
       "    <tr>\n",
       "      <th>9</th>\n",
       "      <td>2019-06-02</td>\n",
       "      <td>These Stylish Summer Outfits Are Surprisingly ...</td>\n",
       "      <td>m.facebook.com / referral</td>\n",
       "      <td>15429</td>\n",
       "      <td>13141</td>\n",
       "    </tr>\n",
       "    <tr>\n",
       "      <th>11</th>\n",
       "      <td>2019-06-04</td>\n",
       "      <td>The 19 Best Shopping Picks for May 2019 | Who ...</td>\n",
       "      <td>newsletter / email</td>\n",
       "      <td>14276</td>\n",
       "      <td>11435</td>\n",
       "    </tr>\n",
       "  </tbody>\n",
       "</table>\n",
       "</div>"
      ],
      "text/plain": [
       "         Date                                         Page Title  \\\n",
       "1  2019-06-06  Chrissy Teigen Wore the Pleated-Jean Trend | W...   \n",
       "4  2019-06-08  Chrissy Teigen Wore the Pleated-Jean Trend | W...   \n",
       "5  2019-06-20  The Best Miami Summer Trends for Under $100 | ...   \n",
       "9  2019-06-02  These Stylish Summer Outfits Are Surprisingly ...   \n",
       "11 2019-06-04  The 19 Best Shopping Picks for May 2019 | Who ...   \n",
       "\n",
       "              Source / Medium  Pageviews  Unique Pageviews  \n",
       "1   m.facebook.com / referral      29730             26236  \n",
       "4   m.facebook.com / referral      18157             15970  \n",
       "5   m.facebook.com / referral      16874             14081  \n",
       "9   m.facebook.com / referral      15429             13141  \n",
       "11         newsletter / email      14276             11435  "
      ]
     },
     "execution_count": 3,
     "metadata": {},
     "output_type": "execute_result"
    }
   ],
   "source": [
    "# Drop unnecessary columns\n",
    "content_df = core_audience.drop(columns=['Age', 'Gender'])\n",
    "print(content_df.shape)\n",
    "content_df.head()"
   ]
  },
  {
   "cell_type": "code",
   "execution_count": 4,
   "metadata": {},
   "outputs": [
    {
     "data": {
      "text/html": [
       "<div>\n",
       "<style scoped>\n",
       "    .dataframe tbody tr th:only-of-type {\n",
       "        vertical-align: middle;\n",
       "    }\n",
       "\n",
       "    .dataframe tbody tr th {\n",
       "        vertical-align: top;\n",
       "    }\n",
       "\n",
       "    .dataframe thead th {\n",
       "        text-align: right;\n",
       "    }\n",
       "</style>\n",
       "<table border=\"1\" class=\"dataframe\">\n",
       "  <thead>\n",
       "    <tr style=\"text-align: right;\">\n",
       "      <th></th>\n",
       "      <th>Date</th>\n",
       "      <th>Page Title</th>\n",
       "      <th>Source / Medium</th>\n",
       "      <th>Pageviews</th>\n",
       "      <th>Unique Pageviews</th>\n",
       "    </tr>\n",
       "  </thead>\n",
       "  <tbody>\n",
       "    <tr>\n",
       "      <th>1</th>\n",
       "      <td>2019-06-06</td>\n",
       "      <td>Chrissy Teigen Wore the Pleated-Jean Trend | W...</td>\n",
       "      <td>m.facebook.com / referral</td>\n",
       "      <td>29730</td>\n",
       "      <td>26236</td>\n",
       "    </tr>\n",
       "    <tr>\n",
       "      <th>4</th>\n",
       "      <td>2019-06-08</td>\n",
       "      <td>Chrissy Teigen Wore the Pleated-Jean Trend | W...</td>\n",
       "      <td>m.facebook.com / referral</td>\n",
       "      <td>18157</td>\n",
       "      <td>15970</td>\n",
       "    </tr>\n",
       "    <tr>\n",
       "      <th>5</th>\n",
       "      <td>2019-06-20</td>\n",
       "      <td>The Best Miami Summer Trends for Under $100 | ...</td>\n",
       "      <td>m.facebook.com / referral</td>\n",
       "      <td>16874</td>\n",
       "      <td>14081</td>\n",
       "    </tr>\n",
       "    <tr>\n",
       "      <th>9</th>\n",
       "      <td>2019-06-02</td>\n",
       "      <td>These Stylish Summer Outfits Are Surprisingly ...</td>\n",
       "      <td>m.facebook.com / referral</td>\n",
       "      <td>15429</td>\n",
       "      <td>13141</td>\n",
       "    </tr>\n",
       "    <tr>\n",
       "      <th>11</th>\n",
       "      <td>2019-06-04</td>\n",
       "      <td>The 19 Best Shopping Picks for May 2019 | Who ...</td>\n",
       "      <td>newsletter / email</td>\n",
       "      <td>14276</td>\n",
       "      <td>11435</td>\n",
       "    </tr>\n",
       "  </tbody>\n",
       "</table>\n",
       "</div>"
      ],
      "text/plain": [
       "         Date                                         Page Title  \\\n",
       "1  2019-06-06  Chrissy Teigen Wore the Pleated-Jean Trend | W...   \n",
       "4  2019-06-08  Chrissy Teigen Wore the Pleated-Jean Trend | W...   \n",
       "5  2019-06-20  The Best Miami Summer Trends for Under $100 | ...   \n",
       "9  2019-06-02  These Stylish Summer Outfits Are Surprisingly ...   \n",
       "11 2019-06-04  The 19 Best Shopping Picks for May 2019 | Who ...   \n",
       "\n",
       "              Source / Medium  Pageviews  Unique Pageviews  \n",
       "1   m.facebook.com / referral      29730             26236  \n",
       "4   m.facebook.com / referral      18157             15970  \n",
       "5   m.facebook.com / referral      16874             14081  \n",
       "9   m.facebook.com / referral      15429             13141  \n",
       "11         newsletter / email      14276             11435  "
      ]
     },
     "execution_count": 4,
     "metadata": {},
     "output_type": "execute_result"
    }
   ],
   "source": [
    "# Sort dataframe by pageviews, since more pageviews indicates more resonating\n",
    "content_df = content_df.sort_values(by='Pageviews', ascending=False)\n",
    "content_df.head()"
   ]
  },
  {
   "cell_type": "code",
   "execution_count": 5,
   "metadata": {},
   "outputs": [
    {
     "data": {
      "text/plain": [
       "('Chrissy Teigen Wore the Pleated-Jean Trend | Who What Wear',\n",
       " 'Chrissy Teigen Wore the Pleated-Jean Trend | Who What Wear',\n",
       " 'The Best Miami Summer Trends for Under $100 | Who What Wear')"
      ]
     },
     "execution_count": 5,
     "metadata": {},
     "output_type": "execute_result"
    }
   ],
   "source": [
    "# Assess the contents of the Page Title column\n",
    "content_df.iloc[0]['Page Title'], content_df.iloc[1]['Page Title'], content_df.iloc[2]['Page Title']"
   ]
  },
  {
   "cell_type": "code",
   "execution_count": 6,
   "metadata": {},
   "outputs": [],
   "source": [
    "# Remove \"| Who What Wear\" from titles\n",
    "new_title = []\n",
    "for title in content_df['Page Title']:\n",
    "    new_string = title.replace(' | Who What Wear', '')\n",
    "    new_title.append(new_string)"
   ]
  },
  {
   "cell_type": "code",
   "execution_count": 7,
   "metadata": {},
   "outputs": [
    {
     "data": {
      "text/html": [
       "<div>\n",
       "<style scoped>\n",
       "    .dataframe tbody tr th:only-of-type {\n",
       "        vertical-align: middle;\n",
       "    }\n",
       "\n",
       "    .dataframe tbody tr th {\n",
       "        vertical-align: top;\n",
       "    }\n",
       "\n",
       "    .dataframe thead th {\n",
       "        text-align: right;\n",
       "    }\n",
       "</style>\n",
       "<table border=\"1\" class=\"dataframe\">\n",
       "  <thead>\n",
       "    <tr style=\"text-align: right;\">\n",
       "      <th></th>\n",
       "      <th>Date</th>\n",
       "      <th>Page Title</th>\n",
       "      <th>Source / Medium</th>\n",
       "      <th>Pageviews</th>\n",
       "      <th>Unique Pageviews</th>\n",
       "      <th>PageTitle</th>\n",
       "    </tr>\n",
       "  </thead>\n",
       "  <tbody>\n",
       "    <tr>\n",
       "      <th>1</th>\n",
       "      <td>2019-06-06</td>\n",
       "      <td>Chrissy Teigen Wore the Pleated-Jean Trend | W...</td>\n",
       "      <td>m.facebook.com / referral</td>\n",
       "      <td>29730</td>\n",
       "      <td>26236</td>\n",
       "      <td>Chrissy Teigen Wore the Pleated-Jean Trend</td>\n",
       "    </tr>\n",
       "    <tr>\n",
       "      <th>4</th>\n",
       "      <td>2019-06-08</td>\n",
       "      <td>Chrissy Teigen Wore the Pleated-Jean Trend | W...</td>\n",
       "      <td>m.facebook.com / referral</td>\n",
       "      <td>18157</td>\n",
       "      <td>15970</td>\n",
       "      <td>The 19 Best Shopping Picks for May 2019</td>\n",
       "    </tr>\n",
       "  </tbody>\n",
       "</table>\n",
       "</div>"
      ],
      "text/plain": [
       "        Date                                         Page Title  \\\n",
       "1 2019-06-06  Chrissy Teigen Wore the Pleated-Jean Trend | W...   \n",
       "4 2019-06-08  Chrissy Teigen Wore the Pleated-Jean Trend | W...   \n",
       "\n",
       "             Source / Medium  Pageviews  Unique Pageviews  \\\n",
       "1  m.facebook.com / referral      29730             26236   \n",
       "4  m.facebook.com / referral      18157             15970   \n",
       "\n",
       "                                    PageTitle  \n",
       "1  Chrissy Teigen Wore the Pleated-Jean Trend  \n",
       "4     The 19 Best Shopping Picks for May 2019  "
      ]
     },
     "execution_count": 7,
     "metadata": {},
     "output_type": "execute_result"
    }
   ],
   "source": [
    "# Replace Page Title contents\n",
    "content_df['PageTitle'] = pd.Series(new_title)\n",
    "content_df.head(2)"
   ]
  },
  {
   "cell_type": "code",
   "execution_count": 8,
   "metadata": {},
   "outputs": [
    {
     "name": "stdout",
     "output_type": "stream",
     "text": [
      "(9183, 6)\n"
     ]
    },
    {
     "data": {
      "text/plain": [
       "(2230, 4)"
      ]
     },
     "execution_count": 8,
     "metadata": {},
     "output_type": "execute_result"
    }
   ],
   "source": [
    "# Combine duplicate Pageviews of Page Titles \n",
    "print(content_df.shape)\n",
    "combo_content_df = content_df.groupby(['PageTitle', 'Source / Medium', ]).sum().sort_values(by='Pageviews', ascending=False).reset_index()\n",
    "combo_content_df.shape"
   ]
  },
  {
   "cell_type": "code",
   "execution_count": 9,
   "metadata": {},
   "outputs": [
    {
     "data": {
      "text/html": [
       "<div>\n",
       "<style scoped>\n",
       "    .dataframe tbody tr th:only-of-type {\n",
       "        vertical-align: middle;\n",
       "    }\n",
       "\n",
       "    .dataframe tbody tr th {\n",
       "        vertical-align: top;\n",
       "    }\n",
       "\n",
       "    .dataframe thead th {\n",
       "        text-align: right;\n",
       "    }\n",
       "</style>\n",
       "<table border=\"1\" class=\"dataframe\">\n",
       "  <thead>\n",
       "    <tr style=\"text-align: right;\">\n",
       "      <th></th>\n",
       "      <th>PageTitle</th>\n",
       "      <th>Source / Medium</th>\n",
       "      <th>Pageviews</th>\n",
       "      <th>Unique Pageviews</th>\n",
       "    </tr>\n",
       "  </thead>\n",
       "  <tbody>\n",
       "    <tr>\n",
       "      <th>0</th>\n",
       "      <td>Chrissy Teigen Wore the Pleated-Jean Trend</td>\n",
       "      <td>m.facebook.com / referral</td>\n",
       "      <td>45438</td>\n",
       "      <td>38499</td>\n",
       "    </tr>\n",
       "    <tr>\n",
       "      <th>1</th>\n",
       "      <td>Summer Wedding Makeup</td>\n",
       "      <td>m.facebook.com / referral</td>\n",
       "      <td>45233</td>\n",
       "      <td>39148</td>\n",
       "    </tr>\n",
       "    <tr>\n",
       "      <th>2</th>\n",
       "      <td>Summer Beauty Buys</td>\n",
       "      <td>m.facebook.com / referral</td>\n",
       "      <td>44728</td>\n",
       "      <td>38273</td>\n",
       "    </tr>\n",
       "    <tr>\n",
       "      <th>3</th>\n",
       "      <td>Chrissy Teigen Wore the Pleated-Jean Trend</td>\n",
       "      <td>newsletter / email</td>\n",
       "      <td>31273</td>\n",
       "      <td>25256</td>\n",
       "    </tr>\n",
       "    <tr>\n",
       "      <th>4</th>\n",
       "      <td>5 Summer Dress Trends That Will Be Everywhere ...</td>\n",
       "      <td>m.facebook.com / referral</td>\n",
       "      <td>30030</td>\n",
       "      <td>24987</td>\n",
       "    </tr>\n",
       "  </tbody>\n",
       "</table>\n",
       "</div>"
      ],
      "text/plain": [
       "                                           PageTitle  \\\n",
       "0         Chrissy Teigen Wore the Pleated-Jean Trend   \n",
       "1                              Summer Wedding Makeup   \n",
       "2                                 Summer Beauty Buys   \n",
       "3         Chrissy Teigen Wore the Pleated-Jean Trend   \n",
       "4  5 Summer Dress Trends That Will Be Everywhere ...   \n",
       "\n",
       "             Source / Medium  Pageviews  Unique Pageviews  \n",
       "0  m.facebook.com / referral      45438             38499  \n",
       "1  m.facebook.com / referral      45233             39148  \n",
       "2  m.facebook.com / referral      44728             38273  \n",
       "3         newsletter / email      31273             25256  \n",
       "4  m.facebook.com / referral      30030             24987  "
      ]
     },
     "execution_count": 9,
     "metadata": {},
     "output_type": "execute_result"
    }
   ],
   "source": [
    "combo_content_df.head()"
   ]
  },
  {
   "cell_type": "code",
   "execution_count": 10,
   "metadata": {},
   "outputs": [
    {
     "name": "stdout",
     "output_type": "stream",
     "text": [
      "Stored 'combo_content_df' (DataFrame)\n"
     ]
    }
   ],
   "source": [
    "%store combo_content_df"
   ]
  },
  {
   "cell_type": "markdown",
   "metadata": {},
   "source": [
    "*NLP the Page Title of Articles in the Top 25% of Pageviews*"
   ]
  },
  {
   "cell_type": "code",
   "execution_count": 11,
   "metadata": {},
   "outputs": [],
   "source": [
    "# Import necessary modules\n",
    "from nltk.corpus import stopwords \n",
    "from nltk.tokenize import word_tokenize "
   ]
  },
  {
   "cell_type": "code",
   "execution_count": 12,
   "metadata": {},
   "outputs": [
    {
     "name": "stdout",
     "output_type": "stream",
     "text": [
      "558\n"
     ]
    },
    {
     "data": {
      "text/plain": [
       "(558, 4)"
      ]
     },
     "execution_count": 12,
     "metadata": {},
     "output_type": "execute_result"
    }
   ],
   "source": [
    "percent_25 = round(len(combo_content_df)*0.25)\n",
    "print(percent_25)\n",
    "top_25_percentile = combo_content_df.head(percent_25)\n",
    "top_25_percentile.shape"
   ]
  },
  {
   "cell_type": "code",
   "execution_count": 13,
   "metadata": {},
   "outputs": [],
   "source": [
    "# Create a list of all combined words\n",
    "all_words = top_25_percentile['PageTitle'].str.cat(sep=' ')\n",
    "\n",
    "# Create stopwords filter\n",
    "stop_words = set(stopwords.words('english'))\n",
    "\n",
    "# Tokenize words\n",
    "word_tokens = word_tokenize(all_words)\n",
    "\n",
    "# Remove stopwords from tokenized words\n",
    "filtered_words = [w.lower() for w in word_tokens if not w.lower() in stop_words] "
   ]
  },
  {
   "cell_type": "markdown",
   "metadata": {},
   "source": [
    "*Count Number of Occurances of Each Word*"
   ]
  },
  {
   "cell_type": "code",
   "execution_count": 14,
   "metadata": {},
   "outputs": [],
   "source": [
    "def count_occurrences(word, sentence):\n",
    "    return sentence.lower().split().count(word)"
   ]
  },
  {
   "cell_type": "code",
   "execution_count": 15,
   "metadata": {},
   "outputs": [],
   "source": [
    "# Create dict to store number of occurances per word\n",
    "count_words = {}\n",
    "for word in np.unique(filtered_words):\n",
    "    num_occurances = count_occurrences(word, all_words)\n",
    "    count_words[word] = num_occurances\n",
    "\n",
    "# Sort words with most appearing word on top\n",
    "sorted_words = sorted(((value, key) for (key,value) in count_words.items()), reverse=True)"
   ]
  },
  {
   "cell_type": "code",
   "execution_count": 16,
   "metadata": {},
   "outputs": [
    {
     "data": {
      "text/plain": [
       "[(137, 'summer'),\n",
       " (107, 'best'),\n",
       " (92, 'trends'),\n",
       " (92, 'fashion'),\n",
       " (51, 'wear'),\n",
       " (48, '2019'),\n",
       " (46, '5'),\n",
       " (41, '7'),\n",
       " (40, 'items'),\n",
       " (37, 'outfits'),\n",
       " (36, 'wore'),\n",
       " (32, 'trend'),\n",
       " (31, '6'),\n",
       " (28, 'affordable'),\n",
       " (28, '10'),\n",
       " (27, '4'),\n",
       " (27, '11'),\n",
       " (26, 'style'),\n",
       " (25, 'buy'),\n",
       " (23, 'women'),\n",
       " (22, 'shoes'),\n",
       " (22, 'dresses'),\n",
       " (22, 'beauty'),\n",
       " (21, 'outfit'),\n",
       " (21, 'girls'),\n",
       " (21, 'every'),\n",
       " (21, '20'),\n",
       " (20, 'look'),\n",
       " (20, '9'),\n",
       " (19, 'popular'),\n",
       " (19, 'biggest'),\n",
       " (18, '|'),\n",
       " (18, 'tips'),\n",
       " (18, 'new'),\n",
       " (18, 'jennifer'),\n",
       " (18, 'according'),\n",
       " (18, '3'),\n",
       " (17, 'wearing'),\n",
       " (17, 'shoe'),\n",
       " (16, 'worst')]"
      ]
     },
     "execution_count": 16,
     "metadata": {},
     "output_type": "execute_result"
    }
   ],
   "source": [
    "sorted_words[0:40]"
   ]
  },
  {
   "cell_type": "markdown",
   "metadata": {},
   "source": [
    "*Create a category for all top words*"
   ]
  },
  {
   "cell_type": "code",
   "execution_count": 17,
   "metadata": {},
   "outputs": [],
   "source": [
    "# Import necessary modules for insertions with SQL \n",
    "import pandasql as ps"
   ]
  },
  {
   "cell_type": "code",
   "execution_count": 18,
   "metadata": {},
   "outputs": [],
   "source": [
    "# Query to find out the number of articles based on the conditions above\n",
    "query = \"\"\"\n",
    "select\n",
    "\n",
    "  case \n",
    "    when PageTitle like '%Summer%' then 'Summer'\n",
    "    when PageTitle like '%Best%' then 'BestOf'\n",
    "    when PageTitle like '%Trend%' then 'TopTrends'\n",
    "    when PageTitle like '%Shoe%' then 'WhatToWear'\n",
    "    when PageTitle like '%Fashion%' then 'Fashion'\n",
    "    when PageTitle like '%Wear%' then 'WhatToWear'\n",
    "    when PageTitle like '%Worst%' then 'WorstOf'\n",
    "    when PageTitle like '%Wore%' then 'Celebrity'\n",
    "    when PageTitle like '%Wardrobe%' then 'WhatToWear'\n",
    "    when PageTitle like '%Women%' then 'WomenTopics'\n",
    "    when PageTitle like '%Cheap%' then 'AffordableStyle'\n",
    "    when PageTitle like '%Affordable%' then 'AffordableStyle'\n",
    "    when PageTitle like '%Item%' then 'TopItems'\n",
    "    when PageTitle like '%Tip%' then 'TopTips'\n",
    "    when PageTitle like '%Outfit%' then 'WhatToWear'\n",
    "    when PageTitle like '%Buy%' then 'WhatToBuy'\n",
    "    when PageTitle like '%Product%' then 'TopProducts'\n",
    "    when PageTitle like '%Beauty%' then 'BeautyTips'\n",
    "    when PageTitle like '%How to%' then 'HowTo'\n",
    "    when PageTitle like '%Shop%' then 'ShopThis'\n",
    "    else 'TitleWithNumbers'\n",
    "    \n",
    "  end as PageTitle\n",
    "  \n",
    "from top_25_percentile\"\"\""
   ]
  },
  {
   "cell_type": "code",
   "execution_count": 19,
   "metadata": {},
   "outputs": [
    {
     "name": "stderr",
     "output_type": "stream",
     "text": [
      "/anaconda3/lib/python3.7/site-packages/ipykernel_launcher.py:2: SettingWithCopyWarning: \n",
      "A value is trying to be set on a copy of a slice from a DataFrame.\n",
      "Try using .loc[row_indexer,col_indexer] = value instead\n",
      "\n",
      "See the caveats in the documentation: http://pandas.pydata.org/pandas-docs/stable/indexing.html#indexing-view-versus-copy\n",
      "  \n"
     ]
    },
    {
     "data": {
      "text/html": [
       "<div>\n",
       "<style scoped>\n",
       "    .dataframe tbody tr th:only-of-type {\n",
       "        vertical-align: middle;\n",
       "    }\n",
       "\n",
       "    .dataframe tbody tr th {\n",
       "        vertical-align: top;\n",
       "    }\n",
       "\n",
       "    .dataframe thead th {\n",
       "        text-align: right;\n",
       "    }\n",
       "</style>\n",
       "<table border=\"1\" class=\"dataframe\">\n",
       "  <thead>\n",
       "    <tr style=\"text-align: right;\">\n",
       "      <th></th>\n",
       "      <th>PageTitle</th>\n",
       "      <th>Source / Medium</th>\n",
       "      <th>Pageviews</th>\n",
       "      <th>Unique Pageviews</th>\n",
       "      <th>TopCategories</th>\n",
       "    </tr>\n",
       "  </thead>\n",
       "  <tbody>\n",
       "    <tr>\n",
       "      <th>0</th>\n",
       "      <td>Chrissy Teigen Wore the Pleated-Jean Trend</td>\n",
       "      <td>m.facebook.com / referral</td>\n",
       "      <td>45438</td>\n",
       "      <td>38499</td>\n",
       "      <td>TopTrends</td>\n",
       "    </tr>\n",
       "    <tr>\n",
       "      <th>1</th>\n",
       "      <td>Summer Wedding Makeup</td>\n",
       "      <td>m.facebook.com / referral</td>\n",
       "      <td>45233</td>\n",
       "      <td>39148</td>\n",
       "      <td>Summer</td>\n",
       "    </tr>\n",
       "    <tr>\n",
       "      <th>2</th>\n",
       "      <td>Summer Beauty Buys</td>\n",
       "      <td>m.facebook.com / referral</td>\n",
       "      <td>44728</td>\n",
       "      <td>38273</td>\n",
       "      <td>Summer</td>\n",
       "    </tr>\n",
       "    <tr>\n",
       "      <th>3</th>\n",
       "      <td>Chrissy Teigen Wore the Pleated-Jean Trend</td>\n",
       "      <td>newsletter / email</td>\n",
       "      <td>31273</td>\n",
       "      <td>25256</td>\n",
       "      <td>TopTrends</td>\n",
       "    </tr>\n",
       "    <tr>\n",
       "      <th>4</th>\n",
       "      <td>5 Summer Dress Trends That Will Be Everywhere ...</td>\n",
       "      <td>m.facebook.com / referral</td>\n",
       "      <td>30030</td>\n",
       "      <td>24987</td>\n",
       "      <td>Summer</td>\n",
       "    </tr>\n",
       "  </tbody>\n",
       "</table>\n",
       "</div>"
      ],
      "text/plain": [
       "                                           PageTitle  \\\n",
       "0         Chrissy Teigen Wore the Pleated-Jean Trend   \n",
       "1                              Summer Wedding Makeup   \n",
       "2                                 Summer Beauty Buys   \n",
       "3         Chrissy Teigen Wore the Pleated-Jean Trend   \n",
       "4  5 Summer Dress Trends That Will Be Everywhere ...   \n",
       "\n",
       "             Source / Medium  Pageviews  Unique Pageviews TopCategories  \n",
       "0  m.facebook.com / referral      45438             38499     TopTrends  \n",
       "1  m.facebook.com / referral      45233             39148        Summer  \n",
       "2  m.facebook.com / referral      44728             38273        Summer  \n",
       "3         newsletter / email      31273             25256     TopTrends  \n",
       "4  m.facebook.com / referral      30030             24987        Summer  "
      ]
     },
     "execution_count": 19,
     "metadata": {},
     "output_type": "execute_result"
    }
   ],
   "source": [
    "# Add modified top categories to top_25_percentile\n",
    "top_25_percentile['TopCategories'] = ps.sqldf(query)\n",
    "top_25_percentile.head()"
   ]
  },
  {
   "cell_type": "code",
   "execution_count": 40,
   "metadata": {},
   "outputs": [
    {
     "data": {
      "text/plain": [
       "17"
      ]
     },
     "execution_count": 40,
     "metadata": {},
     "output_type": "execute_result"
    }
   ],
   "source": [
    "len(np.unique(top_25_percentile['TopCategories']))"
   ]
  },
  {
   "cell_type": "code",
   "execution_count": 20,
   "metadata": {},
   "outputs": [
    {
     "name": "stdout",
     "output_type": "stream",
     "text": [
      "(0, 5)\n"
     ]
    }
   ],
   "source": [
    "# Assess columns with 'NotSpecified'\n",
    "not_specified = top_25_percentile[top_25_percentile['TopCategories'] == 'NotSpecified']\n",
    "print(not_specified.shape)"
   ]
  },
  {
   "cell_type": "code",
   "execution_count": 21,
   "metadata": {},
   "outputs": [
    {
     "data": {
      "text/html": [
       "<div>\n",
       "<style scoped>\n",
       "    .dataframe tbody tr th:only-of-type {\n",
       "        vertical-align: middle;\n",
       "    }\n",
       "\n",
       "    .dataframe tbody tr th {\n",
       "        vertical-align: top;\n",
       "    }\n",
       "\n",
       "    .dataframe thead th {\n",
       "        text-align: right;\n",
       "    }\n",
       "</style>\n",
       "<table border=\"1\" class=\"dataframe\">\n",
       "  <thead>\n",
       "    <tr style=\"text-align: right;\">\n",
       "      <th></th>\n",
       "      <th>PageTitle</th>\n",
       "      <th>Source / Medium</th>\n",
       "      <th>Pageviews</th>\n",
       "      <th>Unique Pageviews</th>\n",
       "      <th>TopCategories</th>\n",
       "    </tr>\n",
       "  </thead>\n",
       "  <tbody>\n",
       "  </tbody>\n",
       "</table>\n",
       "</div>"
      ],
      "text/plain": [
       "Empty DataFrame\n",
       "Columns: [PageTitle, Source / Medium, Pageviews, Unique Pageviews, TopCategories]\n",
       "Index: []"
      ]
     },
     "execution_count": 21,
     "metadata": {},
     "output_type": "execute_result"
    }
   ],
   "source": [
    "not_specified"
   ]
  },
  {
   "cell_type": "markdown",
   "metadata": {},
   "source": [
    "*Visualize*"
   ]
  },
  {
   "cell_type": "code",
   "execution_count": 24,
   "metadata": {},
   "outputs": [],
   "source": [
    "# Import necessary modules\n",
    "%matplotlib inline\n",
    "import matplotlib.pyplot as plt\n",
    "from matplotlib.pyplot import figure\n",
    "import seaborn as sns\n",
    "sns.set(rc={'figure.figsize':(10,10)})"
   ]
  },
  {
   "cell_type": "code",
   "execution_count": 41,
   "metadata": {},
   "outputs": [],
   "source": [
    "# Define a custom palette\n",
    "color_palette = sns.cubehelix_palette(17, start=2, rot=0, dark=0, light=.95, reverse=True)"
   ]
  },
  {
   "cell_type": "code",
   "execution_count": 42,
   "metadata": {},
   "outputs": [
    {
     "data": {
      "image/png": "[encoded data removed]",
      "text/plain": [
       "<Figure size 720x720 with 1 Axes>"
      ]
     },
     "metadata": {},
     "output_type": "display_data"
    }
   ],
   "source": [
    "# Plot counts and show percentages\n",
    "ax = sns.countplot(x='TopCategories', data=top_25_percentile, palette=color_palette)\n",
    "\n",
    "# Percentages added from source code:\n",
    "# https://stackoverflow.com/questions/31749448/how-to-add-percentages-on-top-of-bars-in-seaborn/31754317\n",
    "for p in ax.patches:\n",
    "    height = p.get_height()\n",
    "    ax.text(p.get_x() + p.get_width()/2.,\n",
    "            height + 1,\n",
    "            '{:1.2f}'.format( (height/len(top_25_percentile['TopCategories'])) * 100),\n",
    "            ha=\"center\")  \n",
    "ax.set(title='Top Themes for Who What Wear/s Core Audience (females age 25-34)', ylabel='Percent')\n",
    "plt.xticks(rotation=90)\n",
    "plt.savefig('topcategories.png', dpi=300)\n",
    "plt.show()"
   ]
  },
  {
   "cell_type": "markdown",
   "metadata": {},
   "source": [
    "### Conclusion to Question 2: \n",
    "Of the articles receiving the top 25% of pageviews (approximately 200 articles out of a total of 800), the following 5 categories received the top number of pageviews, and thus, resonate the most with Who What Wear's core audience:\n",
    "1. **Summer**(*~27% of the top 25%*)\n",
    "2. **Best Of**(*~18% of the top 25%*)\n",
    "3. **What To Wear**(*~14.5% of the top 25%*)\n",
    "4. **Top Trends**(*~14.5% of the top 25% *)\n",
    "Further analyses can be performed to accurately select which categories should be used within the SQL query as well as incorporate the differences between the sources of the articles."
   ]
  }
 ],
 "metadata": {
  "kernelspec": {
   "display_name": "Python 3",
   "language": "python",
   "name": "python3"
  },
  "language_info": {
   "codemirror_mode": {
    "name": "ipython",
    "version": 3
   },
   "file_extension": ".py",
   "mimetype": "text/x-python",
   "name": "python",
   "nbconvert_exporter": "python",
   "pygments_lexer": "ipython3",
   "version": "3.7.3"
  }
 },
 "nbformat": 4,
 "nbformat_minor": 2
}
