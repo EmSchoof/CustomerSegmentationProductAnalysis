{
 "cells": [
  {
   "cell_type": "markdown",
   "metadata": {},
   "source": [
    "### Dataset description\n",
    "**Source**: Google Analytics hit (pageview) level data, by date and by article title.\n",
    "\n",
    "**Field descriptions**:\n",
    "- Date - year, month, day of hit.\n",
    "- Page Title - article title that was viewed by user\n",
    "- Age - age of user that visited the site\n",
    "- Gender - gender of user that visited the site\n",
    "- Source/Medium - the referral source of the hit or the website that the user was on before visiting whowhatwear.com\n",
    "- Pageviews - a hit of a url on our site that is being tracked by theAnalytics tracking code.\n",
    "- Unique Pageviews - represents the number of sessions during which that page was viewed one or more times."
   ]
  },
  {
   "cell_type": "markdown",
   "metadata": {},
   "source": [
    "### Step 1: Load and Clean Source-Data"
   ]
  },
  {
   "cell_type": "code",
   "execution_count": 1,
   "metadata": {},
   "outputs": [],
   "source": [
    "# Import the relevant modules\n",
    "import pandas as pd\n",
    "from pandas import DataFrame\n",
    "import numpy as np\n",
    "import json"
   ]
  },
  {
   "cell_type": "code",
   "execution_count": 2,
   "metadata": {},
   "outputs": [
    {
     "data": {
      "text/html": [
       "<div>\n",
       "<style scoped>\n",
       "    .dataframe tbody tr th:only-of-type {\n",
       "        vertical-align: middle;\n",
       "    }\n",
       "\n",
       "    .dataframe tbody tr th {\n",
       "        vertical-align: top;\n",
       "    }\n",
       "\n",
       "    .dataframe thead th {\n",
       "        text-align: right;\n",
       "    }\n",
       "</style>\n",
       "<table border=\"1\" class=\"dataframe\">\n",
       "  <thead>\n",
       "    <tr style=\"text-align: right;\">\n",
       "      <th></th>\n",
       "      <th>Date</th>\n",
       "      <th>Page Title</th>\n",
       "      <th>Age</th>\n",
       "      <th>Gender</th>\n",
       "      <th>Source / Medium</th>\n",
       "      <th>Pageviews</th>\n",
       "      <th>Unique Pageviews</th>\n",
       "      <th>Unnamed: 7</th>\n",
       "      <th>Unnamed: 8</th>\n",
       "      <th>Unnamed: 9</th>\n",
       "      <th>Unnamed: 10</th>\n",
       "      <th>Unnamed: 11</th>\n",
       "      <th>Unnamed: 12</th>\n",
       "      <th>Unnamed: 13</th>\n",
       "      <th>Unnamed: 14</th>\n",
       "    </tr>\n",
       "  </thead>\n",
       "  <tbody>\n",
       "    <tr>\n",
       "      <th>0</th>\n",
       "      <td>20190606</td>\n",
       "      <td>Chrissy Teigen Wore the Pleated-Jean Trend | W...</td>\n",
       "      <td>35-44</td>\n",
       "      <td>female</td>\n",
       "      <td>m.facebook.com / referral</td>\n",
       "      <td>35541</td>\n",
       "      <td>31670</td>\n",
       "      <td>NaN</td>\n",
       "      <td>NaN</td>\n",
       "      <td>NaN</td>\n",
       "      <td>NaN</td>\n",
       "      <td>NaN</td>\n",
       "      <td>NaN</td>\n",
       "      <td>NaN</td>\n",
       "      <td>NaN</td>\n",
       "    </tr>\n",
       "    <tr>\n",
       "      <th>1</th>\n",
       "      <td>20190606</td>\n",
       "      <td>Chrissy Teigen Wore the Pleated-Jean Trend | W...</td>\n",
       "      <td>25-34</td>\n",
       "      <td>female</td>\n",
       "      <td>m.facebook.com / referral</td>\n",
       "      <td>29730</td>\n",
       "      <td>26236</td>\n",
       "      <td>NaN</td>\n",
       "      <td>NaN</td>\n",
       "      <td>NaN</td>\n",
       "      <td>NaN</td>\n",
       "      <td>NaN</td>\n",
       "      <td>NaN</td>\n",
       "      <td>NaN</td>\n",
       "      <td>NaN</td>\n",
       "    </tr>\n",
       "  </tbody>\n",
       "</table>\n",
       "</div>"
      ],
      "text/plain": [
       "       Date                                         Page Title    Age  Gender  \\\n",
       "0  20190606  Chrissy Teigen Wore the Pleated-Jean Trend | W...  35-44  female   \n",
       "1  20190606  Chrissy Teigen Wore the Pleated-Jean Trend | W...  25-34  female   \n",
       "\n",
       "             Source / Medium  Pageviews  Unique Pageviews  Unnamed: 7  \\\n",
       "0  m.facebook.com / referral      35541             31670         NaN   \n",
       "1  m.facebook.com / referral      29730             26236         NaN   \n",
       "\n",
       "   Unnamed: 8  Unnamed: 9  Unnamed: 10  Unnamed: 11  Unnamed: 12  Unnamed: 13  \\\n",
       "0         NaN         NaN          NaN          NaN          NaN          NaN   \n",
       "1         NaN         NaN          NaN          NaN          NaN          NaN   \n",
       "\n",
       "  Unnamed: 14  \n",
       "0         NaN  \n",
       "1         NaN  "
      ]
     },
     "execution_count": 2,
     "metadata": {},
     "output_type": "execute_result"
    }
   ],
   "source": [
    "# Import data\n",
    "customer_df = pd.DataFrame(pd.read_csv('intern_assessment_ds.csv', encoding='unicode_escape'))\n",
    "customer_df.head(2)"
   ]
  },
  {
   "cell_type": "markdown",
   "metadata": {},
   "source": [
    "**First Issue**: In the original version of the file, the error \"UnicodeDecodeError: 'utf8' codec can't decode byte 0xa5 in position 0: invalid start byte\" appeared. To resolve this issue, the encoding, 'unicode_escape', was specified to produce an output that is suitable as raw Unicode literal in Python source code. Additionally, the 'utf8' error can also be resolved by openning the original csv file was opened in Excel/Numbers, then re-exported out as a CSV with 'utf8' encoding specified. "
   ]
  },
  {
   "cell_type": "markdown",
   "metadata": {},
   "source": [
    "**Second Issue**: When imported, it becomes apparent that the are several uncessessary columns full of NaN objects and unnamed. Since these columns are also not referenced in the data description, it will be assumed that these columns can be dropped without interfering with further analysis. "
   ]
  },
  {
   "cell_type": "code",
   "execution_count": 3,
   "metadata": {},
   "outputs": [
    {
     "data": {
      "text/html": [
       "<div>\n",
       "<style scoped>\n",
       "    .dataframe tbody tr th:only-of-type {\n",
       "        vertical-align: middle;\n",
       "    }\n",
       "\n",
       "    .dataframe tbody tr th {\n",
       "        vertical-align: top;\n",
       "    }\n",
       "\n",
       "    .dataframe thead th {\n",
       "        text-align: right;\n",
       "    }\n",
       "</style>\n",
       "<table border=\"1\" class=\"dataframe\">\n",
       "  <thead>\n",
       "    <tr style=\"text-align: right;\">\n",
       "      <th></th>\n",
       "      <th>Date</th>\n",
       "      <th>Page Title</th>\n",
       "      <th>Age</th>\n",
       "      <th>Gender</th>\n",
       "      <th>Source / Medium</th>\n",
       "      <th>Pageviews</th>\n",
       "      <th>Unique Pageviews</th>\n",
       "    </tr>\n",
       "  </thead>\n",
       "  <tbody>\n",
       "    <tr>\n",
       "      <th>0</th>\n",
       "      <td>20190606</td>\n",
       "      <td>Chrissy Teigen Wore the Pleated-Jean Trend | W...</td>\n",
       "      <td>35-44</td>\n",
       "      <td>female</td>\n",
       "      <td>m.facebook.com / referral</td>\n",
       "      <td>35541</td>\n",
       "      <td>31670</td>\n",
       "    </tr>\n",
       "    <tr>\n",
       "      <th>1</th>\n",
       "      <td>20190606</td>\n",
       "      <td>Chrissy Teigen Wore the Pleated-Jean Trend | W...</td>\n",
       "      <td>25-34</td>\n",
       "      <td>female</td>\n",
       "      <td>m.facebook.com / referral</td>\n",
       "      <td>29730</td>\n",
       "      <td>26236</td>\n",
       "    </tr>\n",
       "  </tbody>\n",
       "</table>\n",
       "</div>"
      ],
      "text/plain": [
       "       Date                                         Page Title    Age  Gender  \\\n",
       "0  20190606  Chrissy Teigen Wore the Pleated-Jean Trend | W...  35-44  female   \n",
       "1  20190606  Chrissy Teigen Wore the Pleated-Jean Trend | W...  25-34  female   \n",
       "\n",
       "             Source / Medium  Pageviews  Unique Pageviews  \n",
       "0  m.facebook.com / referral      35541             31670  \n",
       "1  m.facebook.com / referral      29730             26236  "
      ]
     },
     "execution_count": 3,
     "metadata": {},
     "output_type": "execute_result"
    }
   ],
   "source": [
    "# Drop unnecessary columns\n",
    "customer_df = customer_df.drop(columns=['Unnamed: 7', 'Unnamed: 8', 'Unnamed: 9', 'Unnamed: 10',\n",
    "                                       'Unnamed: 11', 'Unnamed: 12', 'Unnamed: 13', 'Unnamed: 14'])\n",
    "customer_df.head(2)"
   ]
  },
  {
   "cell_type": "code",
   "execution_count": 4,
   "metadata": {},
   "outputs": [
    {
     "name": "stdout",
     "output_type": "stream",
     "text": [
      "<class 'pandas.core.frame.DataFrame'>\n",
      "RangeIndex: 32755 entries, 0 to 32754\n",
      "Data columns (total 7 columns):\n",
      "Date                32755 non-null int64\n",
      "Page Title          32755 non-null object\n",
      "Age                 32755 non-null object\n",
      "Gender              32755 non-null object\n",
      "Source / Medium     32755 non-null object\n",
      "Pageviews           32755 non-null int64\n",
      "Unique Pageviews    32755 non-null int64\n",
      "dtypes: int64(3), object(4)\n",
      "memory usage: 1.7+ MB\n"
     ]
    }
   ],
   "source": [
    "# Assess dataset\n",
    "customer_df.info()"
   ]
  },
  {
   "cell_type": "markdown",
   "metadata": {},
   "source": [
    "*Observations*: All columns appear to have the same length of non-null objects, but null-values will be dropped as a precaution."
   ]
  },
  {
   "cell_type": "code",
   "execution_count": 5,
   "metadata": {},
   "outputs": [],
   "source": [
    "# Drop null values\n",
    "customer_df = customer_df.dropna()"
   ]
  },
  {
   "cell_type": "code",
   "execution_count": 6,
   "metadata": {},
   "outputs": [
    {
     "name": "stdout",
     "output_type": "stream",
     "text": [
      "(32755, 7)\n"
     ]
    }
   ],
   "source": [
    "# Number of entries in dataset\n",
    "print(customer_df.shape)"
   ]
  },
  {
   "cell_type": "code",
   "execution_count": 7,
   "metadata": {},
   "outputs": [
    {
     "name": "stdout",
     "output_type": "stream",
     "text": [
      "22530    20190601\n",
      "Name: Date, dtype: int64\n"
     ]
    },
    {
     "data": {
      "text/plain": [
       "14392    20190630\n",
       "Name: Date, dtype: int64"
      ]
     },
     "execution_count": 7,
     "metadata": {},
     "output_type": "execute_result"
    }
   ],
   "source": [
    "# Define date timeframe\n",
    "print(customer_df.sort_values(by='Date', ascending=True)['Date'].head(1))\n",
    "customer_df.sort_values(by='Date', ascending=True)['Date'].tail(1)"
   ]
  },
  {
   "cell_type": "markdown",
   "metadata": {},
   "source": [
    "*Convert Date to Datetime Object*"
   ]
  },
  {
   "cell_type": "code",
   "execution_count": 8,
   "metadata": {},
   "outputs": [],
   "source": [
    "# Import necessary modules\n",
    "from datetime import datetime"
   ]
  },
  {
   "cell_type": "code",
   "execution_count": 9,
   "metadata": {},
   "outputs": [
    {
     "data": {
      "text/html": [
       "<div>\n",
       "<style scoped>\n",
       "    .dataframe tbody tr th:only-of-type {\n",
       "        vertical-align: middle;\n",
       "    }\n",
       "\n",
       "    .dataframe tbody tr th {\n",
       "        vertical-align: top;\n",
       "    }\n",
       "\n",
       "    .dataframe thead th {\n",
       "        text-align: right;\n",
       "    }\n",
       "</style>\n",
       "<table border=\"1\" class=\"dataframe\">\n",
       "  <thead>\n",
       "    <tr style=\"text-align: right;\">\n",
       "      <th></th>\n",
       "      <th>Date</th>\n",
       "      <th>Page Title</th>\n",
       "      <th>Age</th>\n",
       "      <th>Gender</th>\n",
       "      <th>Source / Medium</th>\n",
       "      <th>Pageviews</th>\n",
       "      <th>Unique Pageviews</th>\n",
       "    </tr>\n",
       "  </thead>\n",
       "  <tbody>\n",
       "    <tr>\n",
       "      <th>0</th>\n",
       "      <td>2019-06-06</td>\n",
       "      <td>Chrissy Teigen Wore the Pleated-Jean Trend | W...</td>\n",
       "      <td>35-44</td>\n",
       "      <td>female</td>\n",
       "      <td>m.facebook.com / referral</td>\n",
       "      <td>35541</td>\n",
       "      <td>31670</td>\n",
       "    </tr>\n",
       "    <tr>\n",
       "      <th>1</th>\n",
       "      <td>2019-06-06</td>\n",
       "      <td>Chrissy Teigen Wore the Pleated-Jean Trend | W...</td>\n",
       "      <td>25-34</td>\n",
       "      <td>female</td>\n",
       "      <td>m.facebook.com / referral</td>\n",
       "      <td>29730</td>\n",
       "      <td>26236</td>\n",
       "    </tr>\n",
       "  </tbody>\n",
       "</table>\n",
       "</div>"
      ],
      "text/plain": [
       "        Date                                         Page Title    Age  \\\n",
       "0 2019-06-06  Chrissy Teigen Wore the Pleated-Jean Trend | W...  35-44   \n",
       "1 2019-06-06  Chrissy Teigen Wore the Pleated-Jean Trend | W...  25-34   \n",
       "\n",
       "   Gender            Source / Medium  Pageviews  Unique Pageviews  \n",
       "0  female  m.facebook.com / referral      35541             31670  \n",
       "1  female  m.facebook.com / referral      29730             26236  "
      ]
     },
     "execution_count": 9,
     "metadata": {},
     "output_type": "execute_result"
    }
   ],
   "source": [
    "# Convert Date integers to datetime\n",
    "customer_df['Date'] = customer_df['Date'].apply(lambda x: datetime.strptime(str(x), '%Y%m%d'))\n",
    "customer_df.head(2)"
   ]
  },
  {
   "cell_type": "code",
   "execution_count": 10,
   "metadata": {},
   "outputs": [
    {
     "data": {
      "text/plain": [
       "array(['female', 'male'], dtype=object)"
      ]
     },
     "execution_count": 10,
     "metadata": {},
     "output_type": "execute_result"
    }
   ],
   "source": [
    "# Define genders in dataset\n",
    "np.unique(customer_df.Gender)"
   ]
  },
  {
   "cell_type": "markdown",
   "metadata": {},
   "source": [
    "*Observations*: This dataset is for June 1 to 30 in 2019, and the audience contains both male and female genders."
   ]
  },
  {
   "cell_type": "code",
   "execution_count": 11,
   "metadata": {},
   "outputs": [
    {
     "name": "stdout",
     "output_type": "stream",
     "text": [
      "Stored 'customer_df' (DataFrame)\n"
     ]
    }
   ],
   "source": [
    "%store customer_df"
   ]
  }
 ],
 "metadata": {
  "kernelspec": {
   "display_name": "Python 3",
   "language": "python",
   "name": "python3"
  },
  "language_info": {
   "codemirror_mode": {
    "name": "ipython",
    "version": 3
   },
   "file_extension": ".py",
   "mimetype": "text/x-python",
   "name": "python",
   "nbconvert_exporter": "python",
   "pygments_lexer": "ipython3",
   "version": "3.7.3"
  }
 },
 "nbformat": 4,
 "nbformat_minor": 2
}
